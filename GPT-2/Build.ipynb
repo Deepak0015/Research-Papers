{
 "cells": [
  {
   "cell_type": "code",
   "execution_count": 1,
   "metadata": {},
   "outputs": [],
   "source": [
    "import torch \n",
    "import numpy as np\n",
    "import time \n",
    "import torch.nn as  nn"
   ]
  },
  {
   "cell_type": "code",
   "execution_count": 2,
   "metadata": {},
   "outputs": [
    {
     "data": {
      "text/plain": [
       "tensor([1, 2, 4])"
      ]
     },
     "execution_count": 2,
     "metadata": {},
     "output_type": "execute_result"
    }
   ],
   "source": [
    "torch.tensor([1,2,4])\n"
   ]
  },
  {
   "cell_type": "code",
   "execution_count": null,
   "metadata": {},
   "outputs": [
    {
     "data": {
      "text/plain": [
       "tensor([[1., 1., 1.],\n",
       "        [1., 1., 1.]])"
      ]
     },
     "execution_count": 3,
     "metadata": {},
     "output_type": "execute_result"
    }
   ],
   "source": [
    "torch.ones(2,3)"
   ]
  },
  {
   "cell_type": "code",
   "execution_count": 4,
   "metadata": {},
   "outputs": [
    {
     "data": {
      "text/plain": [
       "tensor([1, 1, 1, 1, 1, 1])"
      ]
     },
     "execution_count": 4,
     "metadata": {},
     "output_type": "execute_result"
    }
   ],
   "source": [
    "torch.ones_like(torch.tensor([1,2,3,4 ,99,8]))"
   ]
  },
  {
   "cell_type": "code",
   "execution_count": 5,
   "metadata": {},
   "outputs": [
    {
     "data": {
      "text/plain": [
       "tensor([[ 1.2119e+25,  4.9658e+28,  2.6890e+32,  6.4577e+16,  3.4736e-12,\n",
       "          3.9604e-11],\n",
       "        [ 7.5640e+23,  1.5793e-19,  5.7704e-05,  2.5353e+30,  3.3351e-43,\n",
       "          4.1773e-41],\n",
       "        [ 6.5612e-39,  1.5488e+04,  2.5353e+30,  2.7465e-43,  2.1684e-41,\n",
       "          2.6177e+30],\n",
       "        [ 3.9376e-43,  1.0060e-40,  1.2255e-38,  8.0071e-22,  1.0141e+31,\n",
       "          5.6052e-45],\n",
       "        [ 3.5059e+00,  1.6661e-41,  1.0221e+19,  1.1625e+27,  1.6529e+19,\n",
       "          1.8337e+31],\n",
       "        [ 1.0312e-40,  2.6582e-40,  4.3429e-38, -4.0240e+34,  1.1844e-38,\n",
       "         -2.8602e-29]])"
      ]
     },
     "execution_count": 5,
     "metadata": {},
     "output_type": "execute_result"
    }
   ],
   "source": [
    "torch.empty(6, 6)"
   ]
  },
  {
   "cell_type": "code",
   "execution_count": 6,
   "metadata": {},
   "outputs": [],
   "source": [
    "inputs = torch.tensor(\n",
    "[[0.43, 0.15, 0.89], # Your\n",
    "[0.55, 0.87, 0.66], # journey\n",
    "[0.57, 0.85, 0.64], # starts\n",
    "[0.22, 0.58, 0.33], # with\n",
    "[0.77, 0.25, 0.10], # one\n",
    "[0.05, 0.80, 0.55]] # step\n",
    ")"
   ]
  },
  {
   "cell_type": "code",
   "execution_count": 7,
   "metadata": {},
   "outputs": [
    {
     "data": {
      "text/plain": [
       "torch.float32"
      ]
     },
     "execution_count": 7,
     "metadata": {},
     "output_type": "execute_result"
    }
   ],
   "source": [
    "inputs.dtype"
   ]
  },
  {
   "cell_type": "code",
   "execution_count": 8,
   "metadata": {},
   "outputs": [
    {
     "name": "stdout",
     "output_type": "stream",
     "text": [
      "tensor([[0.9995, 0.9544, 0.9422, 0.4753, 0.4576, 0.6310],\n",
      "        [0.9544, 1.4950, 1.4754, 0.8434, 0.7070, 1.0865],\n",
      "        [0.9422, 1.4754, 1.4570, 0.8296, 0.7154, 1.0605],\n",
      "        [0.4753, 0.8434, 0.8296, 0.4937, 0.3474, 0.6565],\n",
      "        [0.4576, 0.7070, 0.7154, 0.3474, 0.6654, 0.2935],\n",
      "        [0.6310, 1.0865, 1.0605, 0.6565, 0.2935, 0.9450]])\n",
      "Time taken for the code block: 0.005800 seconds\n"
     ]
    }
   ],
   "source": [
    "start_time  = time.time()\n",
    "attetion_score = torch.empty(6 ,6)\n",
    "for i , x_i in enumerate(inputs):\n",
    "    for j , x_j in enumerate(inputs):\n",
    "        attetion_score[i,j] = torch.dot(x_i ,x_j)\n",
    "\n",
    "print(attetion_score)\n",
    "end_time = time.time()\n",
    "print(f\"Time taken for the code block: {end_time - start_time:.6f} seconds\")"
   ]
  },
  {
   "cell_type": "code",
   "execution_count": 9,
   "metadata": {},
   "outputs": [
    {
     "name": "stdout",
     "output_type": "stream",
     "text": [
      "tensor([[0.9995, 0.9544, 0.9422, 0.4753, 0.4576, 0.6310],\n",
      "        [0.9544, 1.4950, 1.4754, 0.8434, 0.7070, 1.0865],\n",
      "        [0.9422, 1.4754, 1.4570, 0.8296, 0.7154, 1.0605],\n",
      "        [0.4753, 0.8434, 0.8296, 0.4937, 0.3474, 0.6565],\n",
      "        [0.4576, 0.7070, 0.7154, 0.3474, 0.6654, 0.2935],\n",
      "        [0.6310, 1.0865, 1.0605, 0.6565, 0.2935, 0.9450]])\n",
      "Time taken for the code block: 0.005135 seconds\n"
     ]
    }
   ],
   "source": [
    "start_time  = time.time()\n",
    "ttetion_score = inputs @ inputs.T \n",
    "end_time = time.time()\n",
    "print(attetion_score)\n",
    "print(f\"Time taken for the code block: {end_time - start_time:.6f} seconds\")"
   ]
  },
  {
   "cell_type": "code",
   "execution_count": 10,
   "metadata": {},
   "outputs": [],
   "source": [
    "import torch.nn as nn\n",
    "\n",
    "class SelfAttention_V1(nn.Module):\n",
    "        def __init__(self,d_in , d_out):\n",
    "                super().__init__()\n",
    "                self.d_out = d_out\n",
    "                self.w_query = nn.Parameter(torch.randn(d_in , d_out))\n",
    "                self.w_key = nn.Parameter(torch.randn(d_in , d_out))\n",
    "                self.w_value = nn.Parameter(torch.randn(d_in , d_out))\n",
    "        def forward(self, x):\n",
    "                keys = x @ self.w_key\n",
    "                queries = x @ self.w_query\n",
    "                values = x @ self.w_value\n",
    "                atten_score = queries @ keys.T\n",
    "                atten_weight  = torch.softmax(atten_score/keys.shape[-1]** 0.5 , dim =1)\n",
    "                context_vector = atten_weight @ values\n",
    "                return context_vector\n",
    "        \n",
    "        \n"
   ]
  },
  {
   "cell_type": "code",
   "execution_count": 11,
   "metadata": {},
   "outputs": [
    {
     "name": "stdout",
     "output_type": "stream",
     "text": [
      "tensor([[0.2845, 0.4071],\n",
      "        [0.2854, 0.4081],\n",
      "        [0.2854, 0.4075],\n",
      "        [0.2864, 0.3974],\n",
      "        [0.2863, 0.3910],\n",
      "        [0.2860, 0.4039]], grad_fn=<MmBackward0>)\n"
     ]
    }
   ],
   "source": [
    "torch.manual_seed(123)\n",
    "sel_att  =SelfAttention_V1(3 , 2)\n",
    "print(sel_att(inputs))\n"
   ]
  },
  {
   "cell_type": "code",
   "execution_count": 12,
   "metadata": {},
   "outputs": [],
   "source": [
    "# self-attention class using the Linear Layer \n",
    "class SelfAttention_v2(nn.Module):\n",
    "                def __init__(self, d_in, d_out, qkv_bias  = False):\n",
    "                        super().__init__()\n",
    "                        self.d_out = d_out \n",
    "                        self.w_query = nn.Linear(d_in, d_out , bias=qkv_bias)\n",
    "                        self.w_key = nn.Linear(d_in , d_out, bias=qkv_bias)\n",
    "                        self.w_value = nn.Linear(d_in , d_out, bias=qkv_bias)\n",
    "                        \n",
    "                def forward(self, x):\n",
    "                        keys = self.w_key(x)\n",
    "                        queries = self.w_query(x)\n",
    "                        values  =  self.w_value(x)\n",
    "                        attetion_score = queries @ keys.T\n",
    "                        atten_weight = torch.softmax(attetion_score / keys.shape[-1]**0.5 , dim =1)\n",
    "                        contxt_vec = atten_weight @ values\n",
    "                        return contxt_vec"
   ]
  },
  {
   "cell_type": "code",
   "execution_count": 13,
   "metadata": {},
   "outputs": [
    {
     "name": "stdout",
     "output_type": "stream",
     "text": [
      "tensor([[-0.0739,  0.0713],\n",
      "        [-0.0748,  0.0703],\n",
      "        [-0.0749,  0.0702],\n",
      "        [-0.0760,  0.0685],\n",
      "        [-0.0763,  0.0679],\n",
      "        [-0.0754,  0.0693]], grad_fn=<MmBackward0>)\n"
     ]
    }
   ],
   "source": [
    "torch.manual_seed(789)\n",
    "d_in  =3 \n",
    "d_out =2\n",
    "sa_v2  = SelfAttention_v2(d_in , d_out)\n",
    "print(sa_v2(inputs))\n"
   ]
  },
  {
   "cell_type": "code",
   "execution_count": 14,
   "metadata": {},
   "outputs": [
    {
     "name": "stdout",
     "output_type": "stream",
     "text": [
      "tensor([[ 0.2899,  0.0716,  0.0760, -0.0138,  0.1344, -0.0511],\n",
      "        [ 0.4656,  0.1723,  0.1751,  0.0259,  0.1771,  0.0085],\n",
      "        [ 0.4594,  0.1703,  0.1731,  0.0259,  0.1745,  0.0090],\n",
      "        [ 0.2642,  0.1024,  0.1036,  0.0186,  0.0973,  0.0122],\n",
      "        [ 0.2183,  0.0874,  0.0882,  0.0177,  0.0786,  0.0144],\n",
      "        [ 0.3408,  0.1270,  0.1290,  0.0198,  0.1290,  0.0078]],\n",
      "       grad_fn=<MmBackward0>)\n",
      "tensor([[0.1677, 0.1666, 0.1666, 0.1662, 0.1669, 0.1660],\n",
      "        [0.1682, 0.1667, 0.1667, 0.1659, 0.1667, 0.1658],\n",
      "        [0.1682, 0.1667, 0.1667, 0.1659, 0.1667, 0.1658],\n",
      "        [0.1675, 0.1667, 0.1667, 0.1662, 0.1667, 0.1662],\n",
      "        [0.1674, 0.1667, 0.1667, 0.1663, 0.1666, 0.1663],\n",
      "        [0.1678, 0.1667, 0.1667, 0.1661, 0.1667, 0.1661]],\n",
      "       grad_fn=<SoftmaxBackward0>)\n"
     ]
    }
   ],
   "source": [
    "query = sa_v2.w_query(inputs)\n",
    "keys = sa_v2.w_key(inputs)\n",
    "atten_score = query @ keys.T \n",
    "print(atten_score)\n",
    "atten_weight  = torch.softmax(atten_score  / keys.shape[-1]**5 , dim= 1)\n",
    "print(atten_weight)"
   ]
  },
  {
   "cell_type": "code",
   "execution_count": 15,
   "metadata": {},
   "outputs": [
    {
     "data": {
      "text/plain": [
       "6"
      ]
     },
     "execution_count": 15,
     "metadata": {},
     "output_type": "execute_result"
    }
   ],
   "source": [
    "atten_weight.shape[0]"
   ]
  },
  {
   "cell_type": "code",
   "execution_count": 16,
   "metadata": {},
   "outputs": [
    {
     "data": {
      "text/plain": [
       "tensor([[24,  0,  0,  0],\n",
       "        [13,  4,  0,  0]])"
      ]
     },
     "execution_count": 16,
     "metadata": {},
     "output_type": "execute_result"
    }
   ],
   "source": [
    "torch.tril(torch.tensor([[24,35,46,6] ,[13,4,56,6]]))"
   ]
  },
  {
   "cell_type": "code",
   "execution_count": 17,
   "metadata": {},
   "outputs": [
    {
     "data": {
      "text/plain": [
       "tensor([[1., 0., 0., 0., 0., 0.],\n",
       "        [1., 1., 0., 0., 0., 0.],\n",
       "        [1., 1., 1., 0., 0., 0.],\n",
       "        [1., 1., 1., 1., 0., 0.],\n",
       "        [1., 1., 1., 1., 1., 0.],\n",
       "        [1., 1., 1., 1., 1., 1.]])"
      ]
     },
     "execution_count": 17,
     "metadata": {},
     "output_type": "execute_result"
    }
   ],
   "source": [
    "context_length = atten_weight.shape[0]\n",
    "mask_simple = torch.tril(torch.ones(context_length , context_length))\n",
    "mask_simple"
   ]
  },
  {
   "cell_type": "code",
   "execution_count": 18,
   "metadata": {},
   "outputs": [
    {
     "data": {
      "text/plain": [
       "tensor([[0.1677, 0.0000, 0.0000, 0.0000, 0.0000, 0.0000],\n",
       "        [0.1682, 0.1667, 0.0000, 0.0000, 0.0000, 0.0000],\n",
       "        [0.1682, 0.1667, 0.1667, 0.0000, 0.0000, 0.0000],\n",
       "        [0.1675, 0.1667, 0.1667, 0.1662, 0.0000, 0.0000],\n",
       "        [0.1674, 0.1667, 0.1667, 0.1663, 0.1666, 0.0000],\n",
       "        [0.1678, 0.1667, 0.1667, 0.1661, 0.1667, 0.1661]],\n",
       "       grad_fn=<MulBackward0>)"
      ]
     },
     "execution_count": 18,
     "metadata": {},
     "output_type": "execute_result"
    }
   ],
   "source": [
    "masked_sample = atten_weight * mask_simple\n",
    "masked_sample"
   ]
  },
  {
   "cell_type": "code",
   "execution_count": 19,
   "metadata": {},
   "outputs": [
    {
     "data": {
      "text/plain": [
       "tensor([[0.1677, 0.0000, 0.0000, 0.0000, 0.0000, 0.0000],\n",
       "        [0.1682, 0.1667, 0.0000, 0.0000, 0.0000, 0.0000],\n",
       "        [0.1682, 0.1667, 0.1667, 0.0000, 0.0000, 0.0000],\n",
       "        [0.1675, 0.1667, 0.1667, 0.1662, 0.0000, 0.0000],\n",
       "        [0.1674, 0.1667, 0.1667, 0.1663, 0.1666, 0.0000],\n",
       "        [0.1678, 0.1667, 0.1667, 0.1661, 0.1667, 0.1661]],\n",
       "       grad_fn=<TrilBackward0>)"
      ]
     },
     "execution_count": 19,
     "metadata": {},
     "output_type": "execute_result"
    }
   ],
   "source": [
    "torch.tril(atten_weight , diagonal=0 )"
   ]
  },
  {
   "cell_type": "code",
   "execution_count": 20,
   "metadata": {},
   "outputs": [
    {
     "data": {
      "text/plain": [
       "tensor([[0.1677],\n",
       "        [0.3349],\n",
       "        [0.5015],\n",
       "        [0.6671],\n",
       "        [0.8337],\n",
       "        [1.0000]], grad_fn=<SumBackward1>)"
      ]
     },
     "execution_count": 20,
     "metadata": {},
     "output_type": "execute_result"
    }
   ],
   "source": [
    "masked_sample.sum(dim=1 , keepdim= True)"
   ]
  },
  {
   "cell_type": "code",
   "execution_count": 21,
   "metadata": {},
   "outputs": [],
   "source": [
    "row_sum  = masked_sample.sum(dim=1 , keepdim= True)\n"
   ]
  },
  {
   "cell_type": "code",
   "execution_count": 22,
   "metadata": {},
   "outputs": [
    {
     "data": {
      "text/plain": [
       "tensor([[1.0000, 0.0000, 0.0000, 0.0000, 0.0000, 0.0000],\n",
       "        [0.5023, 0.4977, 0.0000, 0.0000, 0.0000, 0.0000],\n",
       "        [0.3353, 0.3323, 0.3323, 0.0000, 0.0000, 0.0000],\n",
       "        [0.2511, 0.2498, 0.2499, 0.2492, 0.0000, 0.0000],\n",
       "        [0.2008, 0.1999, 0.1999, 0.1995, 0.1999, 0.0000],\n",
       "        [0.1678, 0.1667, 0.1667, 0.1661, 0.1667, 0.1661]],\n",
       "       grad_fn=<DivBackward0>)"
      ]
     },
     "execution_count": 22,
     "metadata": {},
     "output_type": "execute_result"
    }
   ],
   "source": [
    "masked_sample_norm = masked_sample / row_sum\n",
    "masked_sample_norm"
   ]
  },
  {
   "cell_type": "code",
   "execution_count": 23,
   "metadata": {},
   "outputs": [
    {
     "data": {
      "text/plain": [
       "tensor([[ 0, 23,  4,  5],\n",
       "        [ 0,  0, 45,  6]])"
      ]
     },
     "execution_count": 23,
     "metadata": {},
     "output_type": "execute_result"
    }
   ],
   "source": [
    "torch.triu(torch.tensor([[2,23,4,5 ] ,[2,33,45,6]]) , diagonal= 1)"
   ]
  },
  {
   "cell_type": "code",
   "execution_count": 24,
   "metadata": {},
   "outputs": [
    {
     "data": {
      "text/plain": [
       "tensor([[0.2899,   -inf,   -inf,   -inf,   -inf,   -inf],\n",
       "        [0.4656, 0.1723,   -inf,   -inf,   -inf,   -inf],\n",
       "        [0.4594, 0.1703, 0.1731,   -inf,   -inf,   -inf],\n",
       "        [0.2642, 0.1024, 0.1036, 0.0186,   -inf,   -inf],\n",
       "        [0.2183, 0.0874, 0.0882, 0.0177, 0.0786,   -inf],\n",
       "        [0.3408, 0.1270, 0.1290, 0.0198, 0.1290, 0.0078]],\n",
       "       grad_fn=<MaskedFillBackward0>)"
      ]
     },
     "execution_count": 24,
     "metadata": {},
     "output_type": "execute_result"
    }
   ],
   "source": [
    "mask = torch.triu(torch.ones(context_length, context_length), diagonal=1)\n",
    "\n",
    "masked = atten_score.masked_fill(mask.bool(), -torch.inf)\n",
    "\n",
    "\n",
    "\n",
    "masked "
   ]
  },
  {
   "cell_type": "code",
   "execution_count": 25,
   "metadata": {},
   "outputs": [
    {
     "data": {
      "text/plain": [
       "tensor([[0.2899, 2.0000, 2.0000, 2.0000, 2.0000, 2.0000],\n",
       "        [0.4656, 0.1723, 2.0000, 2.0000, 2.0000, 2.0000],\n",
       "        [0.4594, 0.1703, 0.1731, 2.0000, 2.0000, 2.0000],\n",
       "        [0.2642, 0.1024, 0.1036, 0.0186, 2.0000, 2.0000],\n",
       "        [0.2183, 0.0874, 0.0882, 0.0177, 0.0786, 2.0000],\n",
       "        [0.3408, 0.1270, 0.1290, 0.0198, 0.1290, 0.0078]],\n",
       "       grad_fn=<MaskedFillBackward0>)"
      ]
     },
     "execution_count": 25,
     "metadata": {},
     "output_type": "execute_result"
    }
   ],
   "source": [
    "atten_score.masked_fill(mask.bool() ,2)"
   ]
  },
  {
   "cell_type": "code",
   "execution_count": 26,
   "metadata": {},
   "outputs": [
    {
     "name": "stdout",
     "output_type": "stream",
     "text": [
      "tensor([[0.2899,   -inf,   -inf,   -inf,   -inf,   -inf],\n",
      "        [0.4656, 0.1723,   -inf,   -inf,   -inf,   -inf],\n",
      "        [0.4594, 0.1703, 0.1731,   -inf,   -inf,   -inf],\n",
      "        [0.2642, 0.1024, 0.1036, 0.0186,   -inf,   -inf],\n",
      "        [0.2183, 0.0874, 0.0882, 0.0177, 0.0786,   -inf],\n",
      "        [0.3408, 0.1270, 0.1290, 0.0198, 0.1290, 0.0078]],\n",
      "       grad_fn=<MaskedFillBackward0>)\n"
     ]
    }
   ],
   "source": [
    "mask = torch.triu(torch.ones(context_length, context_length), diagonal=1)\n",
    "masked = atten_score.masked_fill(mask.bool(), -torch.inf)\n",
    "print(masked)"
   ]
  },
  {
   "cell_type": "code",
   "execution_count": 27,
   "metadata": {},
   "outputs": [
    {
     "data": {
      "text/plain": [
       "tensor([[False,  True,  True,  True,  True,  True],\n",
       "        [False, False,  True,  True,  True,  True],\n",
       "        [False, False, False,  True,  True,  True],\n",
       "        [False, False, False, False,  True,  True],\n",
       "        [False, False, False, False, False,  True],\n",
       "        [False, False, False, False, False, False]])"
      ]
     },
     "execution_count": 27,
     "metadata": {},
     "output_type": "execute_result"
    }
   ],
   "source": [
    "mask.bool()"
   ]
  },
  {
   "cell_type": "code",
   "execution_count": 28,
   "metadata": {},
   "outputs": [
    {
     "data": {
      "text/plain": [
       "tensor([[0., 1., 1., 1., 1., 1.],\n",
       "        [0., 0., 1., 1., 1., 1.],\n",
       "        [0., 0., 0., 1., 1., 1.],\n",
       "        [0., 0., 0., 0., 1., 1.],\n",
       "        [0., 0., 0., 0., 0., 1.],\n",
       "        [0., 0., 0., 0., 0., 0.]])"
      ]
     },
     "execution_count": 28,
     "metadata": {},
     "output_type": "execute_result"
    }
   ],
   "source": [
    "torch.triu(torch.ones(context_length , context_length) , diagonal=1 )\n"
   ]
  },
  {
   "cell_type": "code",
   "execution_count": 29,
   "metadata": {},
   "outputs": [
    {
     "data": {
      "text/plain": [
       "tensor([[False,  True,  True,  True,  True,  True],\n",
       "        [False, False,  True,  True,  True,  True],\n",
       "        [False, False, False,  True,  True,  True],\n",
       "        [False, False, False, False,  True,  True],\n",
       "        [False, False, False, False, False,  True],\n",
       "        [False, False, False, False, False, False]])"
      ]
     },
     "execution_count": 29,
     "metadata": {},
     "output_type": "execute_result"
    }
   ],
   "source": [
    "torch.triu(torch.ones(context_length , context_length) , diagonal=1 ).bool()"
   ]
  },
  {
   "cell_type": "code",
   "execution_count": 30,
   "metadata": {},
   "outputs": [
    {
     "data": {
      "text/plain": [
       "tensor([[0.2899,   -inf,   -inf,   -inf,   -inf,   -inf],\n",
       "        [0.4656, 0.1723,   -inf,   -inf,   -inf,   -inf],\n",
       "        [0.4594, 0.1703, 0.1731,   -inf,   -inf,   -inf],\n",
       "        [0.2642, 0.1024, 0.1036, 0.0186,   -inf,   -inf],\n",
       "        [0.2183, 0.0874, 0.0882, 0.0177, 0.0786,   -inf],\n",
       "        [0.3408, 0.1270, 0.1290, 0.0198, 0.1290, 0.0078]],\n",
       "       grad_fn=<MaskedFillBackward0>)"
      ]
     },
     "execution_count": 30,
     "metadata": {},
     "output_type": "execute_result"
    }
   ],
   "source": [
    "mask  = torch.triu(torch.ones(context_length , context_length) , diagonal=1 )\n",
    "masked =atten_score.masked_fill(mask.bool() ,-torch.inf )\n",
    "masked"
   ]
  },
  {
   "cell_type": "code",
   "execution_count": 31,
   "metadata": {},
   "outputs": [
    {
     "data": {
      "text/plain": [
       "tensor([[1.0000, 0.0000, 0.0000, 0.0000, 0.0000, 0.0000],\n",
       "        [0.5023, 0.4977, 0.0000, 0.0000, 0.0000, 0.0000],\n",
       "        [0.3353, 0.3323, 0.3323, 0.0000, 0.0000, 0.0000],\n",
       "        [0.2511, 0.2498, 0.2499, 0.2492, 0.0000, 0.0000],\n",
       "        [0.2008, 0.1999, 0.1999, 0.1995, 0.1999, 0.0000],\n",
       "        [0.1678, 0.1667, 0.1667, 0.1661, 0.1667, 0.1661]],\n",
       "       grad_fn=<SoftmaxBackward0>)"
      ]
     },
     "execution_count": 31,
     "metadata": {},
     "output_type": "execute_result"
    }
   ],
   "source": [
    "atten_weights = torch.softmax(masked / keys.shape[-1]**5 ,dim = 1)\n",
    "atten_weights"
   ]
  },
  {
   "cell_type": "code",
   "execution_count": 32,
   "metadata": {},
   "outputs": [
    {
     "name": "stdout",
     "output_type": "stream",
     "text": [
      "tensor([[1., 1., 1., 1., 1., 1.],\n",
      "        [1., 1., 1., 1., 1., 1.],\n",
      "        [1., 1., 1., 1., 1., 1.],\n",
      "        [1., 1., 1., 1., 1., 1.],\n",
      "        [1., 1., 1., 1., 1., 1.],\n",
      "        [1., 1., 1., 1., 1., 1.]])\n",
      "tensor([[2., 2., 2., 2., 2., 2.],\n",
      "        [0., 2., 0., 0., 0., 0.],\n",
      "        [0., 0., 2., 0., 2., 0.],\n",
      "        [2., 2., 0., 0., 0., 2.],\n",
      "        [2., 0., 0., 0., 0., 2.],\n",
      "        [0., 2., 0., 0., 0., 0.]])\n"
     ]
    }
   ],
   "source": [
    "torch.manual_seed(123)\n",
    "dropout  = torch.nn.Dropout(0.5)\n",
    "example = torch.ones(6,6)\n",
    "print(example)\n",
    "print(dropout(example))"
   ]
  },
  {
   "cell_type": "code",
   "execution_count": 33,
   "metadata": {},
   "outputs": [
    {
     "name": "stdout",
     "output_type": "stream",
     "text": [
      "tensor([[2.0000, 0.0000, 0.0000, 0.0000, 0.0000, 0.0000],\n",
      "        [0.0000, 0.9954, 0.0000, 0.0000, 0.0000, 0.0000],\n",
      "        [0.0000, 0.0000, 0.6647, 0.0000, 0.0000, 0.0000],\n",
      "        [0.5022, 0.4997, 0.0000, 0.0000, 0.0000, 0.0000],\n",
      "        [0.4015, 0.0000, 0.0000, 0.0000, 0.0000, 0.0000],\n",
      "        [0.0000, 0.3333, 0.0000, 0.0000, 0.0000, 0.0000]],\n",
      "       grad_fn=<MulBackward0>)\n"
     ]
    }
   ],
   "source": [
    "torch.manual_seed(123)\n",
    "print(torch.nn.Dropout(0.5)(atten_weights))"
   ]
  },
  {
   "cell_type": "code",
   "execution_count": 34,
   "metadata": {},
   "outputs": [
    {
     "name": "stdout",
     "output_type": "stream",
     "text": [
      "tensor([[[0.4300, 0.1500, 0.8900],\n",
      "         [0.5500, 0.8700, 0.6600],\n",
      "         [0.5700, 0.8500, 0.6400],\n",
      "         [0.2200, 0.5800, 0.3300],\n",
      "         [0.7700, 0.2500, 0.1000],\n",
      "         [0.0500, 0.8000, 0.5500]],\n",
      "\n",
      "        [[0.4300, 0.1500, 0.8900],\n",
      "         [0.5500, 0.8700, 0.6600],\n",
      "         [0.5700, 0.8500, 0.6400],\n",
      "         [0.2200, 0.5800, 0.3300],\n",
      "         [0.7700, 0.2500, 0.1000],\n",
      "         [0.0500, 0.8000, 0.5500]]])\n",
      "torch.Size([2, 6, 3])\n"
     ]
    }
   ],
   "source": [
    "batch = torch.stack((inputs , inputs), dim=0 )\n",
    "print(batch)\n",
    "print(batch.size())"
   ]
  },
  {
   "cell_type": "code",
   "execution_count": 35,
   "metadata": {},
   "outputs": [
    {
     "data": {
      "text/plain": [
       "tensor([[0.4300, 0.1500, 0.8900],\n",
       "        [0.5500, 0.8700, 0.6600],\n",
       "        [0.5700, 0.8500, 0.6400],\n",
       "        [0.2200, 0.5800, 0.3300],\n",
       "        [0.7700, 0.2500, 0.1000],\n",
       "        [0.0500, 0.8000, 0.5500]])"
      ]
     },
     "execution_count": 35,
     "metadata": {},
     "output_type": "execute_result"
    }
   ],
   "source": [
    "\n",
    "\n",
    "inputs"
   ]
  },
  {
   "cell_type": "code",
   "execution_count": 36,
   "metadata": {},
   "outputs": [
    {
     "data": {
      "text/plain": [
       "tensor([[0.4300, 0.5500, 0.5700, 0.2200, 0.7700, 0.0500],\n",
       "        [0.1500, 0.8700, 0.8500, 0.5800, 0.2500, 0.8000],\n",
       "        [0.8900, 0.6600, 0.6400, 0.3300, 0.1000, 0.5500]])"
      ]
     },
     "execution_count": 36,
     "metadata": {},
     "output_type": "execute_result"
    }
   ],
   "source": [
    "inputs.T"
   ]
  },
  {
   "cell_type": "code",
   "execution_count": 37,
   "metadata": {},
   "outputs": [],
   "source": [
    "class CausalAttention(nn.Module):\n",
    "    def __init__(self, d_in , d_out , context_length , dropout ,    qkv_bias = False):\n",
    "        super().__init__()\n",
    "        self.w_query = nn.Linear(d_in , d_out, bias= qkv_bias)\n",
    "        self.w_key = nn.Linear(d_in , d_out, bias =qkv_bias)\n",
    "        self.w_value = nn.Linear(d_in , d_out , bias  = qkv_bias)\n",
    "        self.dropout = nn.Dropout(dropout)\n",
    "        self.register_buffer(\n",
    "        'mask',\n",
    "        torch.triu(torch.ones(context_length, context_length),\n",
    "        diagonal=1))\n",
    "    def forward(self, x):\n",
    "        b , num_tokens , d_in = x.shape\n",
    "        keys  = self.w_key(x)\n",
    "        queries = self.w_query(x)\n",
    "        values  = self.w_value(x)\n",
    "        atten_scores = queries @ keys.transpose(1, 2)\n",
    "        atten_scores.masked_fill_( #D\n",
    "        self.mask.bool()[:num_tokens, :num_tokens], -torch.inf)        \n",
    "        # print(atten_scores)\n",
    "        atten_weights = torch.softmax(atten_scores  / keys.shape[-1]**0.5 , dim= 1)\n",
    "        # print(atten_weights)\n",
    "        atten_weights = self.dropout(atten_weights)\n",
    "        context_vector = atten_weights @ values\n",
    "        return context_vector\n",
    "\n",
    "\n"
   ]
  },
  {
   "cell_type": "code",
   "execution_count": 38,
   "metadata": {},
   "outputs": [],
   "source": [
    "class CausalAttention(nn.Module):\n",
    "    def __init__(self, d_in, d_out, context_length, dropout, qkv_bias=False):\n",
    "        super().__init__()\n",
    "        self.d_out = d_out\n",
    "        self.W_query = nn.Linear(d_in, d_out, bias=qkv_bias)\n",
    "        self.W_key= nn.Linear(d_in, d_out, bias=qkv_bias)\n",
    "        self.W_value = nn.Linear(d_in, d_out, bias=qkv_bias)\n",
    "        self.dropout = nn.Dropout(dropout) #A\n",
    "        self.register_buffer(\n",
    "        'mask',\n",
    "        torch.triu(torch.ones(context_length, context_length),\n",
    "        diagonal=1)\n",
    "        ) #B\n",
    "    def forward(self, x):\n",
    "        b, num_tokens, d_in = x.shape\n",
    "        keys = self.W_key(x)\n",
    "        queries = self.W_query(x)\n",
    "        values = self.W_value(x)\n",
    "        attn_scores = queries @ keys.transpose(1, 2) #C\n",
    "        attn_scores.masked_fill_( #D\n",
    "        self.mask.bool()[:num_tokens, :num_tokens], -torch.inf)\n",
    "        attn_weights = torch.softmax(attn_scores / keys.shape[-1]**0.5, dim=1)\n",
    "        attn_weights = self.dropout(attn_weights)\n",
    "        context_vec = attn_weights @ values\n",
    "        return context_vec "
   ]
  },
  {
   "cell_type": "code",
   "execution_count": 39,
   "metadata": {},
   "outputs": [
    {
     "name": "stdout",
     "output_type": "stream",
     "text": [
      "context_vecs.shape: tensor([[[-0.0844,  0.0414],\n",
      "         [-0.2264, -0.0039],\n",
      "         [-0.4163, -0.0564],\n",
      "         [-0.5014, -0.1011],\n",
      "         [-0.7754, -0.1867],\n",
      "         [-1.1632, -0.3303]],\n",
      "\n",
      "        [[-0.0844,  0.0414],\n",
      "         [-0.2264, -0.0039],\n",
      "         [-0.4163, -0.0564],\n",
      "         [-0.5014, -0.1011],\n",
      "         [-0.7754, -0.1867],\n",
      "         [-1.1632, -0.3303]]], grad_fn=<UnsafeViewBackward0>)\n",
      "torch.Size([2, 6, 2])\n"
     ]
    }
   ],
   "source": [
    "torch.manual_seed(123)\n",
    "context_length = batch.shape[1]\n",
    "ca = CausalAttention(d_in, d_out, context_length, 0.0)\n",
    "context_vecs = ca(batch)\n",
    "print(\"context_vecs.shape:\", context_vecs)\n",
    "print(context_vecs.shape)"
   ]
  },
  {
   "cell_type": "code",
   "execution_count": 40,
   "metadata": {},
   "outputs": [],
   "source": [
    "class MultiHeadAttentionWrapper(nn.Module):\n",
    "    def __init__(self ,d_in, d_out , context_length , dropout, num_heads , qkv_bias  = False):\n",
    "        super().__init__()\n",
    "        self.heads = nn.ModuleList(\n",
    "            [CausalAttention(d_in=d_in , d_out=d_out , dropout=dropout,context_length=context_length,qkv_bias=qkv_bias)\n",
    "              for _ in range(num_heads)])\n",
    "\n",
    "    def forward(self,x):\n",
    "        return torch.cat([head(x) for head in self.heads],dim =-1)"
   ]
  },
  {
   "cell_type": "code",
   "execution_count": 41,
   "metadata": {},
   "outputs": [
    {
     "name": "stdout",
     "output_type": "stream",
     "text": [
      "tensor([[[-0.0844,  0.0414,  0.0766,  0.0171],\n",
      "         [-0.2264, -0.0039,  0.2143,  0.1185],\n",
      "         [-0.4163, -0.0564,  0.3878,  0.2453],\n",
      "         [-0.5014, -0.1011,  0.4992,  0.3401],\n",
      "         [-0.7754, -0.1867,  0.7387,  0.4868],\n",
      "         [-1.1632, -0.3303,  1.1224,  0.8460]],\n",
      "\n",
      "        [[-0.0844,  0.0414,  0.0766,  0.0171],\n",
      "         [-0.2264, -0.0039,  0.2143,  0.1185],\n",
      "         [-0.4163, -0.0564,  0.3878,  0.2453],\n",
      "         [-0.5014, -0.1011,  0.4992,  0.3401],\n",
      "         [-0.7754, -0.1867,  0.7387,  0.4868],\n",
      "         [-1.1632, -0.3303,  1.1224,  0.8460]]], grad_fn=<CatBackward0>)\n",
      "context_vecs.shape: torch.Size([2, 6, 4])\n"
     ]
    }
   ],
   "source": [
    "torch.manual_seed(123)\n",
    "context_length = batch.shape[1] # This is the number of tokens\n",
    "d_in, d_out = 3, 2\n",
    "mha = MultiHeadAttentionWrapper(d_in, d_out, context_length, 0.0, num_heads=2)\n",
    "context_vecs = mha(batch)\n",
    "print(context_vecs)\n",
    "print(\"context_vecs.shape:\", context_vecs.shape)"
   ]
  },
  {
   "cell_type": "code",
   "execution_count": 42,
   "metadata": {},
   "outputs": [
    {
     "data": {
      "text/plain": [
       "torch.Size([6, 3])"
      ]
     },
     "execution_count": 42,
     "metadata": {},
     "output_type": "execute_result"
    }
   ],
   "source": [
    "\n",
    "inputs.shape"
   ]
  },
  {
   "cell_type": "code",
   "execution_count": 43,
   "metadata": {},
   "outputs": [
    {
     "name": "stdout",
     "output_type": "stream",
     "text": [
      "tensor([[[-9.1476e-02,  3.4164e-02],\n",
      "         [-2.6796e-01, -1.3427e-03],\n",
      "         [-4.8421e-01, -4.8909e-02],\n",
      "         [-6.4808e-01, -1.0625e-01],\n",
      "         [-8.8380e-01, -1.7140e-01],\n",
      "         [-1.4744e+00, -3.4327e-01]],\n",
      "\n",
      "        [[-9.1476e-02,  3.4164e-02],\n",
      "         [-2.6796e-01, -1.3427e-03],\n",
      "         [-4.8421e-01, -4.8909e-02],\n",
      "         [-6.4808e-01, -1.0625e-01],\n",
      "         [-8.8380e-01, -1.7140e-01],\n",
      "         [-1.4744e+00, -3.4327e-01]]], grad_fn=<CatBackward0>)\n",
      "context_vecs.shape: torch.Size([2, 6, 2])\n"
     ]
    }
   ],
   "source": [
    "# Exercise :Change the embedding vector dimention to 2 instand of 4\n",
    "torch.manual_seed(123)\n",
    "context_length = batch.shape[1] # This is the number of tokens\n",
    "d_in, d_out = 3, 1#Change the out dimention into 1 \n",
    "mha = MultiHeadAttentionWrapper(d_in, d_out, context_length, 0.0, num_heads=2)\n",
    "context_vecs = mha(batch)\n",
    "print(context_vecs)\n",
    "print(\"context_vecs.shape:\", context_vecs.shape)"
   ]
  },
  {
   "cell_type": "code",
   "execution_count": 44,
   "metadata": {},
   "outputs": [
    {
     "data": {
      "text/plain": [
       "6"
      ]
     },
     "execution_count": 44,
     "metadata": {},
     "output_type": "execute_result"
    }
   ],
   "source": [
    "batch.shape[1]"
   ]
  },
  {
   "cell_type": "code",
   "execution_count": 45,
   "metadata": {},
   "outputs": [
    {
     "data": {
      "text/plain": [
       "torch.Size([2, 6, 3])"
      ]
     },
     "execution_count": 45,
     "metadata": {},
     "output_type": "execute_result"
    }
   ],
   "source": [
    "batch.shape"
   ]
  },
  {
   "cell_type": "code",
   "execution_count": 46,
   "metadata": {},
   "outputs": [
    {
     "data": {
      "text/plain": [
       "tensor([[ 0.0722,  0.7488,  0.0954,  0.7472,  0.0808,  0.7351],\n",
       "        [-0.0481,  0.4820, -0.2781,  0.3609,  0.1056,  0.6211]],\n",
       "       grad_fn=<ViewBackward0>)"
      ]
     },
     "execution_count": 46,
     "metadata": {},
     "output_type": "execute_result"
    }
   ],
   "source": [
    "ln = nn.Linear(3,2)\n",
    "ln(inputs).shape\n",
    "ln(inputs).view(2, 6  )"
   ]
  },
  {
   "cell_type": "code",
   "execution_count": 47,
   "metadata": {},
   "outputs": [
    {
     "data": {
      "text/plain": [
       "torch.Size([2, 6, 3])"
      ]
     },
     "execution_count": 47,
     "metadata": {},
     "output_type": "execute_result"
    }
   ],
   "source": [
    "batch.shape"
   ]
  },
  {
   "cell_type": "code",
   "execution_count": 48,
   "metadata": {},
   "outputs": [
    {
     "data": {
      "text/plain": [
       "tensor([[1., 1.],\n",
       "        [1., 1.],\n",
       "        [1., 1.]])"
      ]
     },
     "execution_count": 48,
     "metadata": {},
     "output_type": "execute_result"
    }
   ],
   "source": [
    "torch.ones(2,3).view(3,2)"
   ]
  },
  {
   "cell_type": "code",
   "execution_count": 49,
   "metadata": {},
   "outputs": [
    {
     "data": {
      "text/plain": [
       "True"
      ]
     },
     "execution_count": 49,
     "metadata": {},
     "output_type": "execute_result"
    }
   ],
   "source": [
    "2%2 ==0"
   ]
  },
  {
   "cell_type": "code",
   "execution_count": 50,
   "metadata": {},
   "outputs": [
    {
     "data": {
      "text/plain": [
       "1"
      ]
     },
     "execution_count": 50,
     "metadata": {},
     "output_type": "execute_result"
    }
   ],
   "source": [
    "2 //2 "
   ]
  },
  {
   "cell_type": "code",
   "execution_count": 51,
   "metadata": {},
   "outputs": [
    {
     "data": {
      "text/plain": [
       "tensor([[ 0.0722,  0.0808, -0.2781],\n",
       "        [ 0.7488,  0.7351,  0.3609],\n",
       "        [ 0.0954, -0.0481,  0.1056],\n",
       "        [ 0.7472,  0.4820,  0.6211]], grad_fn=<TransposeBackward0>)"
      ]
     },
     "execution_count": 51,
     "metadata": {},
     "output_type": "execute_result"
    }
   ],
   "source": [
    "ln(inputs).view(3,4).transpose(-2,1)"
   ]
  },
  {
   "cell_type": "code",
   "execution_count": 52,
   "metadata": {},
   "outputs": [],
   "source": [
    "class MultiHeadAttention_V2(nn.Module):\n",
    "    def __init__(self, d_in , d_out , context_length  , dropout ,num_heads,qkv_bias = False):\n",
    "        super().__init__()\n",
    "        assert d_out % num_heads  == 0,'d_out must be divisible by the num_heads'\n",
    "        self.w_query = nn.Linear(d_in , d_out ,bias=qkv_bias)\n",
    "        self.w_key = nn.Linear(d_in , d_out, bias=qkv_bias)\n",
    "        self.w_value = nn.Linear(d_in  , d_out,bias=qkv_bias)\n",
    "        self.d_in =d_in\n",
    "        self.d_out = d_out\n",
    "        self.dropout = nn.Dropout(dropout)\n",
    "        self.num_heads  = num_heads\n",
    "        self.head_dim = d_out // num_heads\n",
    "        self.out_proj  = nn.Linear(d_out , d_out)\n",
    "        self.register_buffer(\n",
    "            'mask',\n",
    "            torch.triu(torch.ones(context_length , context_length),diagonal=1)\n",
    "        )\n",
    "\n",
    "    def forward(self,x):\n",
    "        b, num_tokens , d_in = x.shape\n",
    "        keys = self.w_key(x)\n",
    "        queries  = self.w_query(x)\n",
    "        values = self.w_value(x)\n",
    "        queries = queries.view(b, num_tokens , self.num_heads , self.head_dim)\n",
    "        values = values.view(b , num_tokens , self.num_heads , self.head_dim)\n",
    "        keys = keys.view( b, num_tokens , self.num_heads , self.head_dim)\n",
    "        queries = queries.transpose(1, 2)\n",
    "        keys = keys.transpose(1,2)\n",
    "        values = values.transpose(1,2)\n",
    "        attn_scores = queries @ keys.transpose(2, 3)\n",
    "        mask_bool= self.mask.bool()[:num_tokens , :num_tokens]\n",
    "        attn_scores.masked_fill(mask_bool , -torch.inf)\n",
    "        attn_weights = torch.softmax(attn_scores /self.head_dim**0.5   , dim=-1 )\n",
    "        attn_weights = self.dropout(attn_weights)\n",
    "        context_vector = (attn_weights  @ values).transpose(1, 2)\n",
    "        context_vector = context_vector.contiguous().view(b , num_tokens , self.d_out)\n",
    "        context_vector = self.out_proj(context_vector)\n",
    "        return context_vector\n",
    "\n",
    "\n",
    "\n",
    "\n",
    "\n"
   ]
  },
  {
   "cell_type": "code",
   "execution_count": 53,
   "metadata": {},
   "outputs": [],
   "source": [
    "\n",
    "class TransformerBlock(nn.Module):\n",
    "    def __init__(self, cfg):\n",
    "        super().__init__()\n",
    "        self.att = MultiHeadAttention_V2(\n",
    "        d_in=cfg[\"emb_dim\"],\n",
    "        d_out=cfg[\"emb_dim\"],\n",
    "        context_length=cfg[\"context_length\"],\n",
    "        num_heads=cfg[\"n_heads\"],\n",
    "        dropout=cfg[\"drop_rate\"],\n",
    "        qkv_bias=cfg[\"qkv_bias\"])\n",
    "        self.ff = FeedForward(cfg)\n",
    "        self.norm1 = LayerNorm(cfg[\"emb_dim\"])\n",
    "        self.norm2 = LayerNorm(cfg[\"emb_dim\"])\n",
    "        self.drop_resid = nn.Dropout(cfg[\"drop_rate\"])\n",
    "    def forward(self, x):\n",
    "    #A\n",
    "        shortcut = x\n",
    "        x = self.norm1(x)\n",
    "        x = self.att(x)\n",
    "        x = self.drop_resid(x)\n",
    "        x = x + shortcut # Add the original input back\n",
    "        shortcut = x #B\n",
    "        x = self.norm2(x)\n",
    "        x = self.ff(x)\n",
    "        x = self.drop_resid(x)\n",
    "        x = x + shortcut #C\n",
    "        return x"
   ]
  },
  {
   "cell_type": "code",
   "execution_count": 123,
   "metadata": {},
   "outputs": [],
   "source": []
  },
  {
   "cell_type": "code",
   "execution_count": null,
   "metadata": {},
   "outputs": [],
   "source": []
  },
  {
   "cell_type": "code",
   "execution_count": 54,
   "metadata": {},
   "outputs": [],
   "source": [
    "a = torch.tensor([[[[0.2745, 0.6584, 0.2775, 0.8573], #A\n",
    "[0.8993, 0.0390, 0.9268, 0.7388],\n",
    "[0.7179, 0.7058, 0.9156, 0.4340]],\n",
    "[[0.0772, 0.3565, 0.1479, 0.5331],\n",
    "[0.4066, 0.2318, 0.4545, 0.9737],\n",
    "[0.4606, 0.5159, 0.4220, 0.5786]]]])"
   ]
  },
  {
   "cell_type": "code",
   "execution_count": 55,
   "metadata": {},
   "outputs": [
    {
     "data": {
      "text/plain": [
       "tensor([[[[0.2745, 0.6584, 0.2775, 0.8573],\n",
       "          [0.8993, 0.0390, 0.9268, 0.7388],\n",
       "          [0.7179, 0.7058, 0.9156, 0.4340]],\n",
       "\n",
       "         [[0.0772, 0.3565, 0.1479, 0.5331],\n",
       "          [0.4066, 0.2318, 0.4545, 0.9737],\n",
       "          [0.4606, 0.5159, 0.4220, 0.5786]]]])"
      ]
     },
     "execution_count": 55,
     "metadata": {},
     "output_type": "execute_result"
    }
   ],
   "source": [
    "a"
   ]
  },
  {
   "cell_type": "code",
   "execution_count": 56,
   "metadata": {},
   "outputs": [
    {
     "data": {
      "text/plain": [
       "torch.Size([1, 2, 3, 4])"
      ]
     },
     "execution_count": 56,
     "metadata": {},
     "output_type": "execute_result"
    }
   ],
   "source": [
    "a.shape"
   ]
  },
  {
   "cell_type": "code",
   "execution_count": 57,
   "metadata": {},
   "outputs": [
    {
     "data": {
      "text/plain": [
       "torch.Size([1, 2, 4, 3])"
      ]
     },
     "execution_count": 57,
     "metadata": {},
     "output_type": "execute_result"
    }
   ],
   "source": [
    "a.transpose(2,3).shape"
   ]
  },
  {
   "cell_type": "code",
   "execution_count": 58,
   "metadata": {},
   "outputs": [
    {
     "data": {
      "text/plain": [
       "tensor([[[[0.2745, 0.6584, 0.2775, 0.8573],\n",
       "          [0.8993, 0.0390, 0.9268, 0.7388],\n",
       "          [0.7179, 0.7058, 0.9156, 0.4340]],\n",
       "\n",
       "         [[0.0772, 0.3565, 0.1479, 0.5331],\n",
       "          [0.4066, 0.2318, 0.4545, 0.9737],\n",
       "          [0.4606, 0.5159, 0.4220, 0.5786]]]])"
      ]
     },
     "execution_count": 58,
     "metadata": {},
     "output_type": "execute_result"
    }
   ],
   "source": [
    "a"
   ]
  },
  {
   "cell_type": "code",
   "execution_count": 59,
   "metadata": {},
   "outputs": [
    {
     "data": {
      "text/plain": [
       "tensor([[[[0.2745, 0.8993, 0.7179],\n",
       "          [0.6584, 0.0390, 0.7058],\n",
       "          [0.2775, 0.9268, 0.9156],\n",
       "          [0.8573, 0.7388, 0.4340]],\n",
       "\n",
       "         [[0.0772, 0.4066, 0.4606],\n",
       "          [0.3565, 0.2318, 0.5159],\n",
       "          [0.1479, 0.4545, 0.4220],\n",
       "          [0.5331, 0.9737, 0.5786]]]])"
      ]
     },
     "execution_count": 59,
     "metadata": {},
     "output_type": "execute_result"
    }
   ],
   "source": [
    "a.transpose(2,3)"
   ]
  },
  {
   "cell_type": "code",
   "execution_count": 60,
   "metadata": {},
   "outputs": [
    {
     "data": {
      "text/plain": [
       "torch.Size([1, 2, 3, 4])"
      ]
     },
     "execution_count": 60,
     "metadata": {},
     "output_type": "execute_result"
    }
   ],
   "source": [
    "a.shape"
   ]
  },
  {
   "cell_type": "code",
   "execution_count": 61,
   "metadata": {},
   "outputs": [
    {
     "data": {
      "text/plain": [
       "torch.Size([1, 2, 4, 3])"
      ]
     },
     "execution_count": 61,
     "metadata": {},
     "output_type": "execute_result"
    }
   ],
   "source": [
    "a.transpose(2,3 ).shape"
   ]
  },
  {
   "cell_type": "code",
   "execution_count": 62,
   "metadata": {},
   "outputs": [
    {
     "data": {
      "text/plain": [
       "tensor([[[[1.3208, 1.1631, 1.2879],\n",
       "          [1.1631, 2.2150, 1.8424],\n",
       "          [1.2879, 1.8424, 2.0402]],\n",
       "\n",
       "         [[0.4391, 0.7003, 0.5903],\n",
       "          [0.7003, 1.3737, 1.0620],\n",
       "          [0.5903, 1.0620, 0.9912]]]])"
      ]
     },
     "execution_count": 62,
     "metadata": {},
     "output_type": "execute_result"
    }
   ],
   "source": [
    "a @ a.transpose(2,3)"
   ]
  },
  {
   "cell_type": "code",
   "execution_count": 63,
   "metadata": {},
   "outputs": [
    {
     "name": "stdout",
     "output_type": "stream",
     "text": [
      "tensor([[[0.2595, 0.4014],\n",
      "         [0.2583, 0.4014],\n",
      "         [0.2583, 0.4014],\n",
      "         [0.2575, 0.4031],\n",
      "         [0.2582, 0.4026],\n",
      "         [0.2575, 0.4028]],\n",
      "\n",
      "        [[0.2595, 0.4014],\n",
      "         [0.2583, 0.4014],\n",
      "         [0.2583, 0.4014],\n",
      "         [0.2575, 0.4031],\n",
      "         [0.2582, 0.4026],\n",
      "         [0.2575, 0.4028]]], grad_fn=<ViewBackward0>)\n",
      "context_vecs.shape: torch.Size([2, 6, 2])\n"
     ]
    }
   ],
   "source": [
    "torch.manual_seed(123)\n",
    "batch_size, context_length, d_in = batch.shape\n",
    "d_out = 2\n",
    "mha = MultiHeadAttention_V2(d_in, d_out, context_length, 0.0, num_heads=2)\n",
    "context_vecs = mha(batch)\n",
    "print(context_vecs)\n",
    "print(\"context_vecs.shape:\", context_vecs.shape)"
   ]
  },
  {
   "cell_type": "code",
   "execution_count": 64,
   "metadata": {},
   "outputs": [
    {
     "data": {
      "text/plain": [
       "tensor([[-1.8061,  1.8960, -0.1750]], grad_fn=<EmbeddingBackward0>)"
      ]
     },
     "execution_count": 64,
     "metadata": {},
     "output_type": "execute_result"
    }
   ],
   "source": [
    "position_emb = nn.Embedding(21,3)\n",
    "position_emb(torch.arange(1,2))\n"
   ]
  },
  {
   "cell_type": "code",
   "execution_count": 65,
   "metadata": {},
   "outputs": [
    {
     "data": {
      "text/plain": [
       "tensor([[-0.9948,  1.2176, -0.2282]], grad_fn=<EmbeddingBackward0>)"
      ]
     },
     "execution_count": 65,
     "metadata": {},
     "output_type": "execute_result"
    }
   ],
   "source": [
    "position_emb(torch.tensor([20]))"
   ]
  },
  {
   "cell_type": "code",
   "execution_count": 66,
   "metadata": {},
   "outputs": [],
   "source": [
    "# DummyGPTModel \n",
    "class DummyGPTModel(nn.Module):\n",
    "    def __init__(self,cfg):\n",
    "        super().__init__()\n",
    "        self.token_emb = nn.Embedding(cfg['vocab_size'] , cfg['emb_dim'])\n",
    "        self.position_emb = nn.Embedding(cfg['vocab_size'], cfg['emb_dim'])\n",
    "        self.dropout = nn.Dropout(cfg['drop_rate'])\n",
    "        self.trf_blocks = nn.Sequential(*[DummyTransformerBlock(cfg)  for _ in range(cfg['n_layers'])])\n",
    "        \n",
    "        self.final_norm = DummyLayerNorm(cfg['emb_dim'])\n",
    "        self.out_head = nn.Linear(cfg['emb_dim'] , cfg['vocab_size'] , bias= False)\n",
    "\n",
    "    def forward(self, in_idx):\n",
    "        batch_size  , seq_len = in_idx.shape\n",
    "        tok_emb = self.token_emb(in_idx)\n",
    "        pos_emb = self.position_emb(torch.arange(seq_len))\n",
    "        x = tok_emb + pos_emb\n",
    "        x = self.dropout(x)\n",
    "        x = self.trf_blocks(x)\n",
    "        x = self.final_norm(x)\n",
    "        logits = self.out_head(x)\n",
    "        return logits\n",
    "    \n",
    "class DummyTransformerBlock(nn.Module):\n",
    "    def __init__(self,cfg):\n",
    "        super().__init__()\n",
    "\n",
    "    def forward(self,x):\n",
    "        return x \n",
    "    \n",
    "class DummyLayerNorm(nn.Module):\n",
    "    def __init__(self, normalize_shape  , eps =1e-5):\n",
    "        super().__init__()\n",
    "    \n",
    "    def forward(self, x):\n",
    "        return x \n",
    "\n",
    "\n",
    "        \n"
   ]
  },
  {
   "cell_type": "code",
   "execution_count": 67,
   "metadata": {},
   "outputs": [],
   "source": [
    "GPT_CONFIG_124M = {\n",
    "\"vocab_size\": 50257, # Vocabulary size\n",
    "\"context_length\": 1024,\n",
    "# Context length\n",
    "\"emb_dim\": 768,\n",
    "# Embedding dimension\n",
    "\"n_heads\": 12,\n",
    "# Number of attention heads\n",
    "\"n_layers\": 12,\n",
    "# Number of layers\n",
    "\"drop_rate\": 0.1,\n",
    "# Dropout rate\n",
    "\"qkv_bias\": False\n",
    "# Query-Key-Value bias\n",
    "}"
   ]
  },
  {
   "cell_type": "code",
   "execution_count": 68,
   "metadata": {},
   "outputs": [
    {
     "name": "stdout",
     "output_type": "stream",
     "text": [
      "tensor([[6109, 3626, 6100,  345],\n",
      "        [6109, 1110, 6622,  257]])\n"
     ]
    }
   ],
   "source": [
    "import tiktoken\n",
    "tokenizer = tiktoken.get_encoding(\"gpt2\")\n",
    "batch = []\n",
    "txt1 = \"Every effort moves you\"\n",
    "txt2 = \"Every day holds a\"\n",
    "batch.append(torch.tensor(tokenizer.encode(txt1)))\n",
    "batch.append(torch.tensor(tokenizer.encode(txt2)))\n",
    "batch = torch.stack(batch, dim=0)\n",
    "print(batch)"
   ]
  },
  {
   "cell_type": "code",
   "execution_count": 69,
   "metadata": {},
   "outputs": [
    {
     "name": "stdout",
     "output_type": "stream",
     "text": [
      "Output shape: torch.Size([2, 4, 50257])\n",
      "tensor([[[-1.0098, -1.3371,  1.5360,  ...,  0.9138, -0.0446,  0.5080],\n",
      "         [-0.1986, -2.0926, -1.2976,  ...,  0.4652, -0.6466,  1.8320],\n",
      "         [ 1.6675, -1.6455, -1.4320,  ..., -0.6257,  1.3321,  0.0252],\n",
      "         [ 0.7580,  1.3023, -0.3567,  ..., -0.4735, -0.6564,  0.3811]],\n",
      "\n",
      "        [[-0.9175, -0.5156,  2.0081,  ...,  1.0170,  0.2842,  0.7774],\n",
      "         [-0.1943, -0.2929, -1.4559,  ...,  1.0894, -0.9605,  1.9351],\n",
      "         [ 1.4038, -1.0772, -0.7692,  ..., -0.5776, -0.6314,  0.2204],\n",
      "         [ 0.8002,  1.0435,  0.4070,  ..., -0.1311, -0.5104,  0.7819]]],\n",
      "       grad_fn=<UnsafeViewBackward0>)\n"
     ]
    }
   ],
   "source": [
    "torch.manual_seed(123)\n",
    "model = DummyGPTModel(GPT_CONFIG_124M)\n",
    "logits = model(batch)\n",
    "print(\"Output shape:\", logits.shape)\n",
    "print(logits)"
   ]
  },
  {
   "cell_type": "code",
   "execution_count": 70,
   "metadata": {},
   "outputs": [
    {
     "name": "stdout",
     "output_type": "stream",
     "text": [
      "tensor([[-0.1115,  0.1204, -0.3696, -0.2404, -1.1969],\n",
      "        [ 0.2093, -0.9724, -0.7550,  0.3239, -0.1085]])\n",
      "tensor([[0.2260, 0.3470, 0.0000, 0.2216, 0.0000, 0.0000],\n",
      "        [0.2133, 0.2394, 0.0000, 0.5198, 0.3297, 0.0000]],\n",
      "       grad_fn=<ReluBackward0>)\n"
     ]
    }
   ],
   "source": [
    "torch.manual_seed(123)\n",
    "batch_example = torch.randn(2,5)\n",
    "print(batch_example)\n",
    "layer = nn.Sequential(nn.Linear(5,6) , nn.ReLU())\n",
    "out = layer(batch_example)\n",
    "print(out)"
   ]
  },
  {
   "cell_type": "code",
   "execution_count": null,
   "metadata": {},
   "outputs": [],
   "source": []
  },
  {
   "cell_type": "code",
   "execution_count": 71,
   "metadata": {},
   "outputs": [
    {
     "data": {
      "text/plain": [
       "2"
      ]
     },
     "execution_count": 71,
     "metadata": {},
     "output_type": "execute_result"
    }
   ],
   "source": [
    "out.shape[-2]"
   ]
  },
  {
   "cell_type": "code",
   "execution_count": 72,
   "metadata": {},
   "outputs": [
    {
     "data": {
      "text/plain": [
       "torch.Size([2, 6])"
      ]
     },
     "execution_count": 72,
     "metadata": {},
     "output_type": "execute_result"
    }
   ],
   "source": [
    "out.shape"
   ]
  },
  {
   "cell_type": "code",
   "execution_count": 73,
   "metadata": {},
   "outputs": [
    {
     "name": "stdout",
     "output_type": "stream",
     "text": [
      "tensor([[0.1324],\n",
      "        [0.2170]], grad_fn=<MeanBackward1>)\n",
      "tensor([[0.0231],\n",
      "        [0.0398]], grad_fn=<VarBackward0>)\n"
     ]
    }
   ],
   "source": [
    "mean = out.mean(dim=-1 , keepdim= True) # dim =0  Column , dim = 1 Row \n",
    "var = out.var(dim=-1 , keepdim= True)\n",
    "print(mean)\n",
    "print(var)"
   ]
  },
  {
   "cell_type": "code",
   "execution_count": 74,
   "metadata": {},
   "outputs": [
    {
     "data": {
      "text/plain": [
       "tensor([0.1299], grad_fn=<SubBackward0>)"
      ]
     },
     "execution_count": 74,
     "metadata": {},
     "output_type": "execute_result"
    }
   ],
   "source": [
    "out[0][1] - mean[1]"
   ]
  },
  {
   "cell_type": "code",
   "execution_count": 75,
   "metadata": {},
   "outputs": [
    {
     "name": "stdout",
     "output_type": "stream",
     "text": [
      "tensor(0.0935, grad_fn=<SubBackward0>)\n",
      "tensor(0.2145, grad_fn=<SubBackward0>)\n",
      "tensor(-0.1324, grad_fn=<SubBackward0>)\n",
      "tensor(0.0892, grad_fn=<SubBackward0>)\n",
      "tensor(-0.1324, grad_fn=<SubBackward0>)\n",
      "tensor(-0.1324, grad_fn=<SubBackward0>)\n",
      "tensor(-0.0038, grad_fn=<SubBackward0>)\n",
      "tensor(0.0224, grad_fn=<SubBackward0>)\n",
      "tensor(-0.2170, grad_fn=<SubBackward0>)\n",
      "tensor(0.3028, grad_fn=<SubBackward0>)\n",
      "tensor(0.1127, grad_fn=<SubBackward0>)\n",
      "tensor(-0.2170, grad_fn=<SubBackward0>)\n"
     ]
    }
   ],
   "source": [
    "for i in range(0, 2):\n",
    "    for j in range(0, 6):\n",
    "    \n",
    "        print(out[i][j]-mean[i].item())"
   ]
  },
  {
   "cell_type": "code",
   "execution_count": 76,
   "metadata": {},
   "outputs": [
    {
     "data": {
      "text/plain": [
       "tensor([[-0.6459, -0.5249, -0.8719, -0.6503, -0.8719, -0.8719],\n",
       "        [-0.8744, -0.8482, -1.0876, -0.5678, -0.7579, -1.0876]],\n",
       "       grad_fn=<SubBackward0>)"
      ]
     },
     "execution_count": 76,
     "metadata": {},
     "output_type": "execute_result"
    }
   ],
   "source": [
    "out - mean / torch.sqrt(var)"
   ]
  },
  {
   "cell_type": "code",
   "execution_count": 77,
   "metadata": {},
   "outputs": [
    {
     "name": "stdout",
     "output_type": "stream",
     "text": [
      "tensor([[9.9341e-09],\n",
      "        [1.9868e-08]], grad_fn=<MeanBackward1>)\n",
      "tensor([[1.0000],\n",
      "        [1.0000]], grad_fn=<VarBackward0>)\n"
     ]
    }
   ],
   "source": [
    "out_norm = (out - mean) / torch.sqrt(var)\n",
    "mean = out_norm.mean(dim= -1 , keepdim= True)\n",
    "var = out_norm.var(dim =-1, keepdim = True)\n",
    "print(mean)\n",
    "print(var)"
   ]
  },
  {
   "cell_type": "code",
   "execution_count": 78,
   "metadata": {},
   "outputs": [
    {
     "name": "stdout",
     "output_type": "stream",
     "text": [
      "tensor([[    0.0000],\n",
      "        [    0.0000]], grad_fn=<MeanBackward1>)\n",
      "tensor([[1.0000],\n",
      "        [1.0000]], grad_fn=<VarBackward0>)\n"
     ]
    }
   ],
   "source": [
    "# Turn Off the scientific notation \n",
    "torch.set_printoptions(sci_mode= False)\n",
    "print(mean)\n",
    "print(var)"
   ]
  },
  {
   "cell_type": "code",
   "execution_count": 79,
   "metadata": {},
   "outputs": [],
   "source": [
    "class LayerNorm(nn.Module):\n",
    "    def __init__(self , emb_dim):\n",
    "        super().__init__()\n",
    "        self.eps = 1e-5\n",
    "        self.scale  = nn.Parameter(torch.ones(emb_dim))\n",
    "        self.shift = nn.Parameter(torch.zeros(emb_dim))\n",
    "    def forward(self , x):\n",
    "        mean = x.mean(dim= -1, keepdim = True)\n",
    "        var = x.var(dim =-1, keepdim = True)\n",
    "        norm_x = (x - mean) / torch.sqrt(var +self.eps)\n",
    "        return self.scale * norm_x + self.shift\n"
   ]
  },
  {
   "cell_type": "code",
   "execution_count": 80,
   "metadata": {},
   "outputs": [
    {
     "name": "stdout",
     "output_type": "stream",
     "text": [
      "Mean:\n",
      " tensor([[    -0.0000],\n",
      "        [     0.0000]], grad_fn=<MeanBackward1>)\n",
      "Variance:\n",
      " tensor([[0.8000],\n",
      "        [0.8000]], grad_fn=<VarBackward0>)\n"
     ]
    }
   ],
   "source": [
    "ln = LayerNorm(emb_dim=5)\n",
    "out_ln = ln(batch_example)\n",
    "mean = out_ln.mean(dim=-1, keepdim=True)\n",
    "var = out_ln.var(dim=-1, unbiased=False, keepdim=True)\n",
    "print(\"Mean:\\n\", mean)\n",
    "print(\"Variance:\\n\", var)"
   ]
  },
  {
   "cell_type": "code",
   "execution_count": 81,
   "metadata": {},
   "outputs": [],
   "source": [
    "class GELU(nn.Module):\n",
    "    def __init__(self):\n",
    "        super().__init__()\n",
    "    def forward(self, x):\n",
    "        return 0.5 * x *(1+ torch.tanh(torch.sqrt(torch.tensor(2.0/ torch.pi)) * (x+0.044715 * torch.pow(x, 3))) )\n",
    "      "
   ]
  },
  {
   "cell_type": "code",
   "execution_count": 82,
   "metadata": {},
   "outputs": [],
   "source": [
    "import matplotlib.pyplot as plt "
   ]
  },
  {
   "cell_type": "code",
   "execution_count": 83,
   "metadata": {},
   "outputs": [
    {
     "data": {
      "text/plain": [
       "tensor([ 3.0000,  2.9394,  2.8788,  2.8182,  2.7576,  2.6970,  2.6364,  2.5758,\n",
       "         2.5152,  2.4545,  2.3939,  2.3333,  2.2727,  2.2121,  2.1515,  2.0909,\n",
       "         2.0303,  1.9697,  1.9091,  1.8485,  1.7879,  1.7273,  1.6667,  1.6061,\n",
       "         1.5455,  1.4848,  1.4242,  1.3636,  1.3030,  1.2424,  1.1818,  1.1212,\n",
       "         1.0606,  1.0000,  0.9394,  0.8788,  0.8182,  0.7576,  0.6970,  0.6364,\n",
       "         0.5758,  0.5152,  0.4545,  0.3939,  0.3333,  0.2727,  0.2121,  0.1515,\n",
       "         0.0909,  0.0303, -0.0303, -0.0909, -0.1515, -0.2121, -0.2727, -0.3333,\n",
       "        -0.3939, -0.4545, -0.5152, -0.5758, -0.6364, -0.6970, -0.7576, -0.8182,\n",
       "        -0.8788, -0.9394, -1.0000, -1.0606, -1.1212, -1.1818, -1.2424, -1.3030,\n",
       "        -1.3636, -1.4242, -1.4848, -1.5455, -1.6061, -1.6667, -1.7273, -1.7879,\n",
       "        -1.8485, -1.9091, -1.9697, -2.0303, -2.0909, -2.1515, -2.2121, -2.2727,\n",
       "        -2.3333, -2.3939, -2.4545, -2.5152, -2.5758, -2.6364, -2.6970, -2.7576,\n",
       "        -2.8182, -2.8788, -2.9394, -3.0000])"
      ]
     },
     "execution_count": 83,
     "metadata": {},
     "output_type": "execute_result"
    }
   ],
   "source": [
    "torch.linspace(3,-3, 100)"
   ]
  },
  {
   "cell_type": "code",
   "execution_count": 84,
   "metadata": {},
   "outputs": [
    {
     "data": {
      "image/png": "[encoded data removed]",
      "text/plain": [
       "<Figure size 800x300 with 2 Axes>"
      ]
     },
     "metadata": {},
     "output_type": "display_data"
    }
   ],
   "source": [
    "gelu , relu  = GELU() , nn.ReLU()\n",
    "x = torch.linspace(-3,3, 100)\n",
    "y_gelu , y_relu = gelu(x) , relu(x)\n",
    "plt.figure(figsize=(8 , 3))\n",
    "for i , (y  , label)  in enumerate(zip([y_gelu, y_relu] ,[\"GELU\" , \"RELU\"]) , 1):\n",
    "    plt.subplot(1,2 , i)\n",
    "    plt.plot(x, y)\n",
    "    plt.title(f\"{label} activation function\")\n",
    "    plt.xlabel(\"x\")\n",
    "    plt.ylabel(f'{label}')\n",
    "    plt.grid(True)\n",
    "plt.tight_layout()\n",
    "plt.show()"
   ]
  },
  {
   "cell_type": "code",
   "execution_count": 85,
   "metadata": {},
   "outputs": [],
   "source": [
    "class FeedForward(nn.Module):\n",
    "    def __init__(self, cfg):\n",
    "        super().__init__()\n",
    "        self.layers = nn.Sequential(\n",
    "            nn.Linear(cfg['emb_dim'] , 4 * cfg['emb_dim']) ,\n",
    "            GELU(),\n",
    "            nn.Linear(4 * cfg['emb_dim'] , cfg['emb_dim'])\n",
    "        )\n",
    "    def forward(self, x ):\n",
    "        return self.layers(x)\n",
    "    "
   ]
  },
  {
   "cell_type": "code",
   "execution_count": 86,
   "metadata": {},
   "outputs": [
    {
     "name": "stdout",
     "output_type": "stream",
     "text": [
      "torch.Size([2, 3, 768])\n"
     ]
    }
   ],
   "source": [
    "ffn = FeedForward(GPT_CONFIG_124M)\n",
    "x = torch.randn(2, 3, 768)\n",
    "out = ffn(x)\n",
    "print(out.shape)"
   ]
  },
  {
   "cell_type": "code",
   "execution_count": 87,
   "metadata": {},
   "outputs": [],
   "source": [
    "# Shortcut connection or residual connection \n",
    "\n",
    "class ExampleDeepNeuralNetwork(nn.Module):\n",
    "    def __init__(self, layer_sizes , use_shortcut ):\n",
    "        super().__init__()\n",
    "        self.use_shorcut =  use_shortcut\n",
    "        self.layers = nn.ModuleList([\n",
    "            nn.Sequential(nn.Linear(layer_sizes[0] , layer_sizes[1]) , GELU()),\n",
    "            nn.Sequential(nn.Linear(layer_sizes[1] , layer_sizes[2]) , GELU()),\n",
    "            nn.Sequential(nn.Linear(layer_sizes[2] , layer_sizes[3]) , GELU()),\n",
    "            nn.Sequential(nn.Linear(layer_sizes[3] , layer_sizes[4]) , GELU()),\n",
    "             nn.Sequential(nn.Linear(layer_sizes[4] , layer_sizes[5]) , GELU()),\n",
    "\n",
    "        ])\n",
    "    def forward(self , x ):\n",
    "        for layer in self.layers:\n",
    "            layer_output = layer(x)\n",
    "            if self.use_shorcut and x.shape  ==  layer_output.shape:\n",
    "                x = x + layer_output\n",
    "\n",
    "            else:\n",
    "                x = layer_output    \n",
    "\n",
    "        return x \n",
    "    "
   ]
  },
  {
   "cell_type": "code",
   "execution_count": 88,
   "metadata": {},
   "outputs": [],
   "source": [
    "layer_sizes = [3,3,3,3,3,1]\n",
    "sample_input = torch.tensor([[1.,0., -1.]])\n",
    "torch.manual_seed(123)\n",
    "model_without_shortcut = ExampleDeepNeuralNetwork(layer_sizes=layer_sizes , use_shortcut= False)\n"
   ]
  },
  {
   "cell_type": "code",
   "execution_count": 89,
   "metadata": {},
   "outputs": [],
   "source": [
    "def print_gradients(model , x):\n",
    "    output = model(x)\n",
    "    target  =  torch.tensor([[0]], dtype= torch.float32)\n",
    "    loss = nn.MSELoss()\n",
    "    loss = loss(output ,  target)\n",
    "    loss.backward()\n",
    "    for name , parm in model.named_parameters():\n",
    "        if 'weight' in name:\n",
    "            print(f\"{name}  has gradient mean of {parm.grad.abs().mean().item()}\")\n"
   ]
  },
  {
   "cell_type": "code",
   "execution_count": 90,
   "metadata": {},
   "outputs": [
    {
     "name": "stdout",
     "output_type": "stream",
     "text": [
      "layers.0.0.weight  has gradient mean of 0.00020173587836325169\n",
      "layers.1.0.weight  has gradient mean of 0.00012011159560643137\n",
      "layers.2.0.weight  has gradient mean of 0.0007152040489017963\n",
      "layers.3.0.weight  has gradient mean of 0.0013988736318424344\n",
      "layers.4.0.weight  has gradient mean of 0.005049645435065031\n"
     ]
    }
   ],
   "source": [
    "print_gradients(model_without_shortcut, sample_input)"
   ]
  },
  {
   "cell_type": "code",
   "execution_count": 91,
   "metadata": {},
   "outputs": [
    {
     "name": "stdout",
     "output_type": "stream",
     "text": [
      "layers.0.0.weight  has gradient mean of 0.22169798612594604\n",
      "layers.1.0.weight  has gradient mean of 0.20694111287593842\n",
      "layers.2.0.weight  has gradient mean of 0.3289700150489807\n",
      "layers.3.0.weight  has gradient mean of 0.26657330989837646\n",
      "layers.4.0.weight  has gradient mean of 1.3258544206619263\n"
     ]
    }
   ],
   "source": [
    "torch.manual_seed(123)\n",
    "model_with_shortcut = ExampleDeepNeuralNetwork(\n",
    "layer_sizes, use_shortcut=True\n",
    ")\n",
    "print_gradients(model_with_shortcut, sample_input)"
   ]
  },
  {
   "cell_type": "code",
   "execution_count": 92,
   "metadata": {},
   "outputs": [],
   "source": [
    "# Transformer block \n",
    "\n",
    "class TransformerBlock(nn.Module):\n",
    "        def __init__(self, cfg):\n",
    "                super().__init__()\n",
    "                self.attn = MultiHeadAttention_V2(d_in=cfg['emb_dim'] , d_out=cfg['emb_dim'] ,\n",
    "                                                   context_length=cfg['context_length'] ,\n",
    "                                                     dropout=cfg['drop_rate'] , num_heads=cfg['n_heads'] ,\n",
    "                                                      qkv_bias=cfg['qkv_bias'] )\n",
    "                self.layernorm1 = LayerNorm(emb_dim=cfg['emb_dim'])\n",
    "                self.layernorm2 = LayerNorm(emb_dim=cfg['emb_dim'])\n",
    "                self.ff = FeedForward(cfg=cfg)\n",
    "                self.drop_out  =nn.Dropout(cfg['drop_rate'])\n",
    "\n",
    "        def forward(self, x):\n",
    "                shortcut = x\n",
    "                x = self.layernorm1(x)\n",
    "                x = self.attn(x)\n",
    "                x = self.drop_out(x)\n",
    "                x = shortcut + x\n",
    "\n",
    "                shortcut = x \n",
    "                x = self.layernorm2(x)\n",
    "                x = self.ff(x)\n",
    "                x = self.drop_out(x)\n",
    "                x = x + shortcut\n",
    "                \n",
    "                return x "
   ]
  },
  {
   "cell_type": "code",
   "execution_count": 93,
   "metadata": {},
   "outputs": [],
   "source": [
    "class MultiHeadAttention(nn.Module):\n",
    "    def __init__(self, d_in, d_out, context_length, dropout, num_heads, qkv_bias=False):\n",
    "        super().__init__()\n",
    "        assert d_out % num_heads == 0, 'd_out must be divisible by num_heads'\n",
    "        self.w_query = nn.Linear(d_in, d_out, bias=qkv_bias)\n",
    "        self.w_key = nn.Linear(d_in, d_out, bias=qkv_bias)\n",
    "        self.w_value = nn.Linear(d_in, d_out, bias=qkv_bias)\n",
    "        self.d_in = d_in\n",
    "        self.d_out = d_out\n",
    "        self.dropout = nn.Dropout(dropout)\n",
    "        self.num_heads = num_heads\n",
    "        self.head_dim = d_out // num_heads\n",
    "        self.out_proj = nn.Linear(d_out, d_out)\n",
    "        self.register_buffer(\n",
    "            'mask',\n",
    "            torch.triu(torch.ones(context_length, context_length), diagonal=1)\n",
    "        )\n",
    "\n",
    "    def forward(self, x):\n",
    "        b, num_tokens, d_in = x.shape\n",
    "        # Linear projections\n",
    "        queries = self.w_query(x).view(b, num_tokens, self.num_heads, self.head_dim)\n",
    "        keys = self.w_key(x).view(b, num_tokens, self.num_heads, self.head_dim)\n",
    "        values = self.w_value(x).view(b, num_tokens, self.num_heads, self.head_dim)\n",
    "\n",
    "        # Transpose for multi-head attention\n",
    "        queries = queries.transpose(1, 2)  # (b, num_heads, num_tokens, head_dim)\n",
    "        keys = keys.transpose(1, 2)        # (b, num_heads, num_tokens, head_dim)\n",
    "        values = values.transpose(1, 2)    # (b, num_heads, num_tokens, head_dim)\n",
    "\n",
    "        # Scaled dot-product attention\n",
    "        attn_scores = queries @ keys.transpose(-2, -1)  # (b, num_heads, num_tokens, num_tokens)\n",
    "        mask_bool = self.mask[:num_tokens, :num_tokens].unsqueeze(0).unsqueeze(0)\n",
    "        mask_bool = mask_bool.expand(b, self.num_heads, num_tokens, num_tokens).bool()\n",
    "        attn_scores = attn_scores.masked_fill(mask_bool, float('-inf'))\n",
    "\n",
    "        # Attention weights\n",
    "        attn_weights = torch.softmax(attn_scores / (self.head_dim ** 0.5), dim=-1)\n",
    "        attn_weights = self.dropout(attn_weights)\n",
    "\n",
    "        # Context vector\n",
    "        context_vector = (attn_weights @ values).transpose(1, 2)  # (b, num_tokens, num_heads, head_dim)\n",
    "        context_vector = context_vector.contiguous().view(b, num_tokens, self.d_out)  # (b, num_tokens, d_out)\n",
    "\n",
    "        # Output projection\n",
    "        context_vector = self.out_proj(context_vector)\n",
    "        return context_vector\n"
   ]
  },
  {
   "cell_type": "code",
   "execution_count": 94,
   "metadata": {},
   "outputs": [],
   "source": [
    "class TransformerBlock(nn.Module):\n",
    "    def __init__(self, cfg):\n",
    "        super().__init__()\n",
    "        self.att = MultiHeadAttention(\n",
    "        d_in=cfg[\"emb_dim\"],\n",
    "        d_out=cfg[\"emb_dim\"],\n",
    "        context_length=cfg[\"context_length\"],\n",
    "        num_heads=cfg[\"n_heads\"],\n",
    "        dropout=cfg[\"drop_rate\"],\n",
    "        qkv_bias=cfg[\"qkv_bias\"])\n",
    "        self.ff = FeedForward(cfg)\n",
    "        self.norm1 = LayerNorm(cfg[\"emb_dim\"])\n",
    "        self.norm2 = LayerNorm(cfg[\"emb_dim\"])\n",
    "        self.drop_resid = nn.Dropout(cfg[\"drop_rate\"])\n",
    "    def forward(self, x):\n",
    "    #A\n",
    "        shortcut = x\n",
    "        x = self.norm1(x)\n",
    "        x = self.att(x)\n",
    "        x = self.drop_resid(x)\n",
    "        x = x + shortcut # Add the original input back\n",
    "        shortcut = x #B\n",
    "        x = self.norm2(x)\n",
    "        x = self.ff(x)\n",
    "        x = self.drop_resid(x)\n",
    "        x = x + shortcut #C\n",
    "        return x"
   ]
  },
  {
   "cell_type": "code",
   "execution_count": 95,
   "metadata": {},
   "outputs": [],
   "source": [
    "torch.manual_seed(123)\n",
    "x = torch.rand(2, 4, 768) #A\n",
    "block = TransformerBlock(GPT_CONFIG_124M)\n",
    "output = block(x)"
   ]
  },
  {
   "cell_type": "code",
   "execution_count": 96,
   "metadata": {},
   "outputs": [
    {
     "name": "stdout",
     "output_type": "stream",
     "text": [
      "torch.Size([2, 4, 768])\n"
     ]
    }
   ],
   "source": [
    "print(output.shape)"
   ]
  },
  {
   "cell_type": "code",
   "execution_count": 97,
   "metadata": {},
   "outputs": [
    {
     "data": {
      "text/plain": [
       "tensor([[[ 0.1649,  0.4003, -0.0746,  ...,  1.2644,  0.3327,  0.7242],\n",
       "         [ 0.0295,  0.0499,  0.2529,  ...,  0.4699,  0.1284,  0.9746],\n",
       "         [ 0.5534,  0.5785, -0.0309,  ...,  1.1541,  0.3949,  0.7598],\n",
       "         [ 0.1631,  0.7129,  0.7272,  ...,  0.3312,  0.5731,  0.9255]],\n",
       "\n",
       "        [[ 0.1788,  1.1680,  0.5809,  ...,  0.1828,  0.0076, -0.5598],\n",
       "         [-0.2919,  0.6317,  0.2002,  ...,  0.3218,  0.4671, -0.0381],\n",
       "         [ 0.9273,  0.4202,  0.3183,  ...,  0.3771,  0.7189, -0.1204],\n",
       "         [ 0.6033,  0.5767,  0.3411,  ...,  1.3796,  1.2681,  0.3915]]],\n",
       "       grad_fn=<AddBackward0>)"
      ]
     },
     "execution_count": 97,
     "metadata": {},
     "output_type": "execute_result"
    }
   ],
   "source": [
    "output"
   ]
  },
  {
   "cell_type": "code",
   "execution_count": 98,
   "metadata": {},
   "outputs": [
    {
     "data": {
      "text/plain": [
       "tensor([[[ 0.1649,  0.4003, -0.0746,  ...,  1.2644,  0.3327,  0.7242],\n",
       "         [ 0.0295,  0.0499,  0.2529,  ...,  0.4699,  0.1284,  0.9746],\n",
       "         [ 0.5534,  0.5785, -0.0309,  ...,  1.1541,  0.3949,  0.7598],\n",
       "         [ 0.1631,  0.7129,  0.7272,  ...,  0.3312,  0.5731,  0.9255]],\n",
       "\n",
       "        [[ 0.1788,  1.1680,  0.5809,  ...,  0.1828,  0.0076, -0.5598],\n",
       "         [-0.2919,  0.6317,  0.2002,  ...,  0.3218,  0.4671, -0.0381],\n",
       "         [ 0.9273,  0.4202,  0.3183,  ...,  0.3771,  0.7189, -0.1204],\n",
       "         [ 0.6033,  0.5767,  0.3411,  ...,  1.3796,  1.2681,  0.3915]]],\n",
       "       grad_fn=<AddBackward0>)"
      ]
     },
     "execution_count": 98,
     "metadata": {},
     "output_type": "execute_result"
    }
   ],
   "source": [
    "output"
   ]
  },
  {
   "cell_type": "code",
   "execution_count": 99,
   "metadata": {},
   "outputs": [
    {
     "data": {
      "text/plain": [
       "tensor([ 0,  1,  2,  3,  4,  5,  6,  7,  8,  9, 10, 11, 12, 13, 14, 15, 16, 17,\n",
       "        18, 19, 20, 21, 22, 23, 24, 25, 26, 27, 28])"
      ]
     },
     "execution_count": 99,
     "metadata": {},
     "output_type": "execute_result"
    }
   ],
   "source": [
    "torch.arange(29)"
   ]
  },
  {
   "cell_type": "code",
   "execution_count": 100,
   "metadata": {},
   "outputs": [],
   "source": [
    "class GPTModel(nn.Module):\n",
    "    def __init__(self, cfg):\n",
    "\n",
    "        super().__init__()\n",
    "\n",
    "        self.tok_emb = nn.Embedding(cfg['vocab_size'] , cfg['emb_dim'])\n",
    "\n",
    "        self.pos_emb = nn.Embedding(cfg['context_length'] , cfg['emb_dim'])\n",
    "\n",
    "        self.drop_rate = nn.Dropout(cfg['drop_rate'])\n",
    "\n",
    "        self.transformer_block  = nn.Sequential(*[TransformerBlock(cfg) for _ in range(cfg['n_layers'])])\n",
    "\n",
    "        self.final_norm  =  LayerNorm(emb_dim=cfg['emb_dim'])\n",
    "\n",
    "        self.out_head = nn.Linear(cfg['emb_dim'] , cfg['vocab_size'] , bias = False)\n",
    "\n",
    "    def forward(self, idx):\n",
    "\n",
    "        batch_size , seq_len = idx.shape\n",
    "\n",
    "        token_embs = self.tok_emb(idx)\n",
    "\n",
    "        pos_embs = self.pos_emb(torch.arange(seq_len , device= idx.device))\n",
    "\n",
    "        x = token_embs + pos_embs\n",
    "\n",
    "        x  =  self.drop_rate(x)\n",
    "\n",
    "        x = self.transformer_block(x)\n",
    "\n",
    "        x = self.final_norm(x)\n",
    "\n",
    "        x = self.out_head(x)\n",
    "\n",
    "        return x \n"
   ]
  },
  {
   "cell_type": "code",
   "execution_count": 101,
   "metadata": {},
   "outputs": [
    {
     "name": "stdout",
     "output_type": "stream",
     "text": [
      "Input batch:\n",
      " tensor([[6109, 3626, 6100,  345],\n",
      "        [6109, 1110, 6622,  257]])\n",
      "\n",
      "Output shape: torch.Size([2, 4, 50257])\n",
      "tensor([[[ 0.1381,  0.0079, -0.1957,  ..., -0.0222, -0.1062,  0.1717],\n",
      "         [ 0.3867, -0.8400, -0.6558,  ..., -0.5162,  0.2362, -0.3349],\n",
      "         [ 0.6985, -0.1826, -0.1634,  ...,  0.1472, -0.6503, -0.0054],\n",
      "         [-0.4288,  0.1670, -0.1262,  ...,  1.1571,  0.5297, -0.5542]],\n",
      "\n",
      "        [[ 0.1095, -0.2890, -0.1463,  ..., -0.0557,  0.2907, -0.2818],\n",
      "         [ 0.0884, -0.3545, -0.3524,  ...,  1.2921,  0.0050,  0.1902],\n",
      "         [ 0.6092,  0.4702, -0.4093,  ...,  0.7682,  0.3781, -0.1968],\n",
      "         [-0.0608, -0.0739,  0.4747,  ...,  1.2458, -0.3834,  0.0612]]],\n",
      "       grad_fn=<UnsafeViewBackward0>)\n"
     ]
    }
   ],
   "source": [
    "torch.manual_seed(123)\n",
    "model = GPTModel(GPT_CONFIG_124M)\n",
    "out = model(batch)\n",
    "print(\"Input batch:\\n\", batch)\n",
    "print(\"\\nOutput shape:\", out.shape)\n",
    "print(out)"
   ]
  },
  {
   "cell_type": "code",
   "execution_count": 102,
   "metadata": {},
   "outputs": [
    {
     "name": "stdout",
     "output_type": "stream",
     "text": [
      "Total Parameters in the GPT Model :163,009,536\n"
     ]
    }
   ],
   "source": [
    "total_parms  = sum( p.numel() for p in model.parameters())\n",
    "print(f\"Total Parameters in the GPT Model :{total_parms:,}\")\n"
   ]
  },
  {
   "cell_type": "code",
   "execution_count": 103,
   "metadata": {},
   "outputs": [
    {
     "name": "stdout",
     "output_type": "stream",
     "text": [
      "Token embedding layer shape: torch.Size([50257, 768])\n",
      "Output layer shape: torch.Size([50257, 768])\n"
     ]
    }
   ],
   "source": [
    "print(\"Token embedding layer shape:\", model.tok_emb.weight.shape)\n",
    "print(\"Output layer shape:\", model.out_head.weight.shape)"
   ]
  },
  {
   "cell_type": "code",
   "execution_count": 104,
   "metadata": {},
   "outputs": [
    {
     "name": "stdout",
     "output_type": "stream",
     "text": [
      "Total size of the model: 621.83 MB\n"
     ]
    }
   ],
   "source": [
    "total_size_bytes = total_parms * 4 #A\n",
    "total_size_mb = total_size_bytes / (1024 * 1024) #B\n",
    "print(f\"Total size of the model: {total_size_mb:.2f} MB\")"
   ]
  },
  {
   "cell_type": "code",
   "execution_count": 105,
   "metadata": {},
   "outputs": [],
   "source": [
    "def Generate_text(model  , idx , context_size ,max_new_tokens ):\n",
    "    for _ in range(max_new_tokens):\n",
    "        idx_cond = idx[:, -context_size:]\n",
    "        with torch.no_grad():\n",
    "            logits = model(idx_cond)\n",
    "            print(logits.shape)\n",
    "        logits  = logits[:, -1  , :]\n",
    "        print(logits.shape)\n",
    "        probs  = torch.softmax(logits  , dim=-1)\n",
    "        print(probs)\n",
    "        idx_next = torch.argmax(probs, dim=-1 , keepdim= True)\n",
    "        print(idx_next)\n",
    "        idx = torch.cat((idx, idx_next), dim=1)\n",
    "    return idx "
   ]
  },
  {
   "cell_type": "code",
   "execution_count": 106,
   "metadata": {},
   "outputs": [
    {
     "name": "stdout",
     "output_type": "stream",
     "text": [
      "encoded: [15496, 11, 314, 716]\n",
      "encoded_tensor.shape: torch.Size([1, 4])\n"
     ]
    }
   ],
   "source": [
    "start_context = \"Hello, I am\"\n",
    "encoded = tokenizer.encode(start_context)\n",
    "print(\"encoded:\", encoded)\n",
    "encoded_tensor = torch.tensor(encoded).unsqueeze(0) #A\n",
    "print(\"encoded_tensor.shape:\", encoded_tensor.shape)"
   ]
  },
  {
   "cell_type": "code",
   "execution_count": 107,
   "metadata": {},
   "outputs": [
    {
     "name": "stdout",
     "output_type": "stream",
     "text": [
      "torch.Size([1, 4, 50257])\n",
      "torch.Size([1, 50257])\n",
      "tensor([[    0.0000,     0.0000,     0.0000,  ...,     0.0001,     0.0000,\n",
      "             0.0000]])\n",
      "tensor([[27018]])\n",
      "torch.Size([1, 5, 50257])\n",
      "torch.Size([1, 50257])\n",
      "tensor([[    0.0000,     0.0000,     0.0000,  ...,     0.0000,     0.0000,\n",
      "             0.0000]])\n",
      "tensor([[24086]])\n",
      "torch.Size([1, 6, 50257])\n",
      "torch.Size([1, 50257])\n",
      "tensor([[    0.0000,     0.0000,     0.0000,  ...,     0.0000,     0.0000,\n",
      "             0.0000]])\n",
      "tensor([[47843]])\n",
      "torch.Size([1, 7, 50257])\n",
      "torch.Size([1, 50257])\n",
      "tensor([[    0.0000,     0.0000,     0.0000,  ...,     0.0000,     0.0000,\n",
      "             0.0000]])\n",
      "tensor([[30961]])\n",
      "torch.Size([1, 8, 50257])\n",
      "torch.Size([1, 50257])\n",
      "tensor([[    0.0000,     0.0000,     0.0000,  ...,     0.0000,     0.0000,\n",
      "             0.0000]])\n",
      "tensor([[42348]])\n",
      "torch.Size([1, 9, 50257])\n",
      "torch.Size([1, 50257])\n",
      "tensor([[    0.0000,     0.0000,     0.0000,  ...,     0.0000,     0.0000,\n",
      "             0.0000]])\n",
      "tensor([[7267]])\n",
      "torch.Size([1, 10, 50257])\n",
      "torch.Size([1, 50257])\n",
      "tensor([[    0.0000,     0.0000,     0.0000,  ...,     0.0000,     0.0000,\n",
      "             0.0000]])\n",
      "tensor([[49706]])\n",
      "torch.Size([1, 11, 50257])\n",
      "torch.Size([1, 50257])\n",
      "tensor([[    0.0000,     0.0000,     0.0000,  ...,     0.0000,     0.0000,\n",
      "             0.0000]])\n",
      "tensor([[43231]])\n",
      "torch.Size([1, 12, 50257])\n",
      "torch.Size([1, 50257])\n",
      "tensor([[    0.0000,     0.0000,     0.0000,  ...,     0.0000,     0.0000,\n",
      "             0.0000]])\n",
      "tensor([[47062]])\n",
      "torch.Size([1, 13, 50257])\n",
      "torch.Size([1, 50257])\n",
      "tensor([[    0.0000,     0.0000,     0.0000,  ...,     0.0000,     0.0000,\n",
      "             0.0000]])\n",
      "tensor([[34657]])\n",
      "torch.Size([1, 14, 50257])\n",
      "torch.Size([1, 50257])\n",
      "tensor([[    0.0000,     0.0000,     0.0000,  ...,     0.0000,     0.0000,\n",
      "             0.0000]])\n",
      "tensor([[18631]])\n",
      "Output: tensor([[15496,    11,   314,   716, 27018, 24086, 47843, 30961, 42348,  7267,\n",
      "         49706, 43231, 47062, 34657, 18631]])\n",
      "Output length: 15\n"
     ]
    }
   ],
   "source": [
    "model.eval() #A\n",
    "out = Generate_text(\n",
    "model=model,\n",
    "idx=encoded_tensor,\n",
    "max_new_tokens=11,\n",
    "context_size=GPT_CONFIG_124M[\"context_length\"]\n",
    ")\n",
    "print(\"Output:\", out)\n",
    "print(\"Output length:\", len(out[0]))"
   ]
  },
  {
   "cell_type": "code",
   "execution_count": 108,
   "metadata": {},
   "outputs": [
    {
     "name": "stdout",
     "output_type": "stream",
     "text": [
      "Hello, I am Featureiman Byeswickattribute argue logger Normandy Compton analogous bore\n"
     ]
    }
   ],
   "source": [
    "decoded_text = tokenizer.decode(out.squeeze(0).tolist())\n",
    "print(decoded_text)"
   ]
  },
  {
   "cell_type": "code",
   "execution_count": null,
   "metadata": {},
   "outputs": [],
   "source": []
  },
  {
   "cell_type": "code",
   "execution_count": 109,
   "metadata": {},
   "outputs": [],
   "source": [
    "# Efficient Transformers (Sparse Attention):\n",
    "\n",
    "#     Use transformers like Longformer, BigBird, or Reformer that process long sequences with sparse attention mechanisms.\n",
    "#     These models focus on critical parts of the context instead of attending to all tokens.\n",
    "#     Use Case: Applications with long text but limited compute resources.\n",
    "#     Pros:\n",
    "#         Handles very long contexts efficiently.\n",
    "#     Cons:\n",
    "#         Requires specialized transformer architectures."
   ]
  },
  {
   "cell_type": "code",
   "execution_count": null,
   "metadata": {},
   "outputs": [],
   "source": []
  },
  {
   "cell_type": "code",
   "execution_count": 110,
   "metadata": {},
   "outputs": [],
   "source": [
    "def text_to_token_idx(text,  tokenizer):\n",
    "    encoded = tokenizer.encode(text, allowed_special={'<|endoftext|>'})\n",
    "    encoded = torch.tensor(encoded).unsqueeze(0)\n",
    "    return encoded"
   ]
  },
  {
   "cell_type": "code",
   "execution_count": 111,
   "metadata": {},
   "outputs": [],
   "source": [
    "def token_idx_to_text(tokens , tokenizer):\n",
    "    flat  = tokens.squeeze(0)\n",
    "    decode = tokenizer.decode(flat.tolist())\n",
    "    return decode"
   ]
  },
  {
   "cell_type": "code",
   "execution_count": 112,
   "metadata": {},
   "outputs": [
    {
     "name": "stdout",
     "output_type": "stream",
     "text": [
      "hello\n"
     ]
    }
   ],
   "source": [
    "encode  =  text_to_token_idx('hello' , tokenizer)\n",
    "print(token_idx_to_text(encode, tokenizer))"
   ]
  },
  {
   "cell_type": "code",
   "execution_count": 113,
   "metadata": {},
   "outputs": [
    {
     "name": "stdout",
     "output_type": "stream",
     "text": [
      "torch.Size([1, 5, 50257])\n",
      "torch.Size([1, 50257])\n",
      "tensor([[    0.0000,     0.0000,     0.0000,  ...,     0.0000,     0.0000,\n",
      "             0.0000]])\n",
      "tensor([[24086]])\n",
      "torch.Size([1, 6, 50257])\n",
      "torch.Size([1, 50257])\n",
      "tensor([[    0.0000,     0.0000,     0.0000,  ...,     0.0000,     0.0000,\n",
      "             0.0000]])\n",
      "tensor([[47843]])\n",
      "torch.Size([1, 7, 50257])\n",
      "torch.Size([1, 50257])\n",
      "tensor([[    0.0000,     0.0000,     0.0000,  ...,     0.0000,     0.0000,\n",
      "             0.0000]])\n",
      "tensor([[30961]])\n",
      "torch.Size([1, 8, 50257])\n",
      "torch.Size([1, 50257])\n",
      "tensor([[    0.0000,     0.0000,     0.0000,  ...,     0.0000,     0.0000,\n",
      "             0.0000]])\n",
      "tensor([[42348]])\n",
      "torch.Size([1, 9, 50257])\n",
      "torch.Size([1, 50257])\n",
      "tensor([[    0.0000,     0.0000,     0.0000,  ...,     0.0000,     0.0000,\n",
      "             0.0000]])\n",
      "tensor([[7267]])\n",
      "torch.Size([1, 10, 50257])\n",
      "torch.Size([1, 50257])\n",
      "tensor([[    0.0000,     0.0000,     0.0000,  ...,     0.0000,     0.0000,\n",
      "             0.0000]])\n",
      "tensor([[19682]])\n",
      "torch.Size([1, 11, 50257])\n",
      "torch.Size([1, 50257])\n",
      "tensor([[    0.0000,     0.0000,     0.0000,  ...,     0.0000,     0.0000,\n",
      "             0.0000]])\n",
      "tensor([[43231]])\n",
      "torch.Size([1, 12, 50257])\n",
      "torch.Size([1, 50257])\n",
      "tensor([[    0.0000,     0.0000,     0.0000,  ...,     0.0000,     0.0000,\n",
      "             0.0000]])\n",
      "tensor([[47062]])\n",
      "torch.Size([1, 13, 50257])\n",
      "torch.Size([1, 50257])\n",
      "tensor([[    0.0000,     0.0000,     0.0000,  ...,     0.0000,     0.0000,\n",
      "             0.0001]])\n",
      "tensor([[34657]])\n",
      "torch.Size([1, 14, 50257])\n",
      "torch.Size([1, 50257])\n",
      "tensor([[    0.0000,     0.0000,     0.0000,  ...,     0.0000,     0.0000,\n",
      "             0.0000]])\n",
      "tensor([[18631]])\n"
     ]
    }
   ],
   "source": [
    "token_ids = Generate_text(model= model , idx=text_to_token_idx(\"Every effort moves yoy\" , tokenizer),\n",
    "                          max_new_tokens=10 ,\n",
    "                          context_size=GPT_CONFIG_124M['context_length']\n",
    "                          )"
   ]
  },
  {
   "cell_type": "code",
   "execution_count": 114,
   "metadata": {},
   "outputs": [
    {
     "name": "stdout",
     "output_type": "stream",
     "text": [
      "Every effort moves yoyiman Byeswickattribute argueternity Normandy Compton analogous bore\n"
     ]
    }
   ],
   "source": [
    "print(token_idx_to_text(token_ids , tokenizer))"
   ]
  },
  {
   "cell_type": "code",
   "execution_count": 115,
   "metadata": {},
   "outputs": [],
   "source": [
    "with open('combined_qa.txt' ,'r') as file:\n",
    "    text_data = file.read()"
   ]
  },
  {
   "cell_type": "code",
   "execution_count": 116,
   "metadata": {},
   "outputs": [],
   "source": [
    "text_data = text_data[:20000]"
   ]
  },
  {
   "cell_type": "code",
   "execution_count": 117,
   "metadata": {},
   "outputs": [],
   "source": [
    "total_char = len(text_data[:30000])"
   ]
  },
  {
   "cell_type": "code",
   "execution_count": 118,
   "metadata": {},
   "outputs": [
    {
     "data": {
      "text/plain": [
       "20000"
      ]
     },
     "execution_count": 118,
     "metadata": {},
     "output_type": "execute_result"
    }
   ],
   "source": [
    "total_char"
   ]
  },
  {
   "cell_type": "code",
   "execution_count": 119,
   "metadata": {},
   "outputs": [
    {
     "name": "stdout",
     "output_type": "stream",
     "text": [
      "4920\n"
     ]
    }
   ],
   "source": [
    "total_toke  =  len(tokenizer.encode(text_data))\n",
    "print(total_toke)"
   ]
  },
  {
   "cell_type": "code",
   "execution_count": 120,
   "metadata": {},
   "outputs": [
    {
     "name": "stdout",
     "output_type": "stream",
     "text": [
      "18000\n"
     ]
    }
   ],
   "source": [
    "# Training dataset \n",
    "train_ratio = 0.90\n",
    "split = int(train_ratio * len(text_data))\n",
    "print(split)\n",
    "train_data= text_data[:split]\n",
    "val_data = text_data[split:]"
   ]
  },
  {
   "cell_type": "code",
   "execution_count": 121,
   "metadata": {},
   "outputs": [],
   "source": [
    "import torch\n",
    "from torch.utils.data import Dataset , DataLoader \n",
    "\n",
    "class GPTDatasetV1(Dataset):\n",
    "    def __init__(self, txt, tokenizer, max_length, stride):\n",
    "        self.tokenizer = tokenizer\n",
    "        self.input_ids = []\n",
    "        self.target_ids = []\n",
    "        token_ids = tokenizer.encode(txt) #A\n",
    "        for i in range(0, len(token_ids) - max_length, stride): #B\n",
    "            input_chunk = token_ids[i:i + max_length]\n",
    "            target_chunk = token_ids[i + 1: i + max_length + 1]\n",
    "            self.input_ids.append(torch.tensor(input_chunk))\n",
    "            self.target_ids.append(torch.tensor(target_chunk))\n",
    "    def __len__(self): #C\n",
    "        return len(self.input_ids)\n",
    "    def __getitem__(self, idx): #D\n",
    "         return self.input_ids[idx], self.target_ids[idx]"
   ]
  },
  {
   "cell_type": "code",
   "execution_count": 122,
   "metadata": {},
   "outputs": [],
   "source": [
    "def create_dataloader_v1(txt, batch_size=4,\n",
    "    max_length=256, stride=128, shuffle=True, drop_last=True):\n",
    "    tokenizer = tiktoken.get_encoding(\"gpt2\") #A\n",
    "    dataset = GPTDatasetV1(txt, tokenizer, max_length, stride) #B\n",
    "    dataloader = DataLoader(\n",
    "    dataset, batch_size=batch_size, shuffle=shuffle, drop_last=drop_last)\n",
    "    return dataloader"
   ]
  },
  {
   "cell_type": "code",
   "execution_count": 123,
   "metadata": {},
   "outputs": [
    {
     "data": {
      "text/plain": [
       "18000"
      ]
     },
     "execution_count": 123,
     "metadata": {},
     "output_type": "execute_result"
    }
   ],
   "source": [
    "len(train_data)"
   ]
  },
  {
   "cell_type": "code",
   "execution_count": 124,
   "metadata": {},
   "outputs": [],
   "source": [
    "train_dataloader = create_dataloader_v1(txt= train_data , batch_size= 2 , max_length=GPT_CONFIG_124M['context_length'] , shuffle =  True , drop_last=True , stride=GPT_CONFIG_124M['context_length'])\n",
    "val_dataloader = create_dataloader_v1(txt= val_data , batch_size= 2 , max_length=GPT_CONFIG_124M['context_length'] , shuffle =  False , drop_last=False , stride=GPT_CONFIG_124M['context_length'])\n"
   ]
  },
  {
   "cell_type": "code",
   "execution_count": 125,
   "metadata": {},
   "outputs": [],
   "source": [
    "test = next(iter(train_dataloader))[0][0].tolist()"
   ]
  },
  {
   "cell_type": "code",
   "execution_count": 126,
   "metadata": {},
   "outputs": [
    {
     "data": {
      "text/plain": [
       "' the image79 ? gray\\nwhat is the rectangular shaped object on the night stand on the right side of the bed in the image79 ? laptop\\nwhat is in the corner of the wall on the left side of the bookshelf in the image80 ? hockey_stick\\nwhat color is the hat on the top right of the bookshelf in the image80 ? black, white\\nwhat color is the bookshelf in front of wall in the image80 ? brown\\nwhat is the red object on the dresser in the image82 ? deoderant\\nhow many knobs are in the first row of the drawers in the image82 ? 5\\nwhat color is the blanket on the mattress in the image82 ? brown\\nwhat is on the top of the dresser close to the red deoderant in the image82 ? box\\nhow many tables are in front of the bookshelf close to the ladder in the image84 ? 1\\nwhat are the blue and white objects above the tables on the left side of the picture in the image84 ? umbrella\\nwhat color are the bookshelves in this picture in the image84 ? brown\\nhow many ladders are in this picture in the image87 ? 1\\nwhat color are the bookshelves in the image87 ? brown\\nwhat is the most frequent object in this picture in the image87 ? book\\nwhat colors are the backpacks in the store in the image91 ? pink, purple, blue, black\\nwhat is the red object on the white column in the image91 ? fire_alarm\\nwhat is in the cartons close to the notebooks in the image93 ? file_holder\\nwhat color is the lamp shade near the laptop on the table in the image93 ? red\\nwhich object is made of glass and wood in this picture in the image93 ? display_case\\nwhat color is the wall behind the laptop and lampshade in the image93 ? purple\\nwhat colors are the sweatshirts in front of the store in the image95 ? gray, blue, black\\nhow many stairs are between the front side and the back side of the store in the image95 ? 3\\nwhat colors are the mugs in the shelf in the image97 ? white, black, purple, blue\\nwhat are the shelves made of in the image97 ? glass\\nwhat colors are the sweatshirts in the image99 ? pink, blue, black, white\\nhow many shelves does the bookcase have on the left side of the sweatshirts in the image99 ? 6\\nhow many steps does the step stool have in the image104 ? 3\\nwhat colors are the sticker notes on the shelves in the image104 ? pink, yellow\\nhow many shelves does the bookcase have close to the step stool in the image104 ? 7\\nwhat is on the top of the monitor on the cash desk in the image114 ? soft_toy\\nhow many lamps are above the cash desk in this picture in the image114 ? 2\\nwhat is under the counter and behind the floor mat in the image123 ? radiator\\nwhat is on the top of the counter between the paper cups and the paper boxes in the image123 ? napkin_dispenser\\nhow many blackboards are in the picture in the image123 ? 3\\nhow many tumblers are on the counter in the image124 ? 4\\nwhat is between the white mug and the paper cups on the counter in the image124 ? ornamental_plant\\nwhat color is the counter in the image124 ? white, brown\\nwhat is on the cabinet in front of the dish rack in the image130 ? casserole_dish\\nhow many plates are in the dish rack in the image130 ? 2\\nhow many cabinets are above the sink and the dish rack in the image130 ? 3\\nhow many tiers does the spice rack have in the image133 ? 3\\nwhat is hanging on the wall between the spice rack and the cabinet in the image133 ? kichen_towel\\nwhat color is the cabinet above the sink in the image133 ? white\\nwhat is the electrical object on the cabinet in the image134 ? blender\\nwhat color is the kitchen towel hanging on the cabinet handle in the image134 ? yellow\\nwhat is on the refridgerator door in the image134 ? picture\\nwhat is above the oven on the wall in the image136 ? microwave\\nwhat is in the rack on the wall in the image136 ? spice_bottle\\nwhat is the dish on the oven made of in the image136 ? aluminium_foil\\nwhat color is the toaster oven on the top of the cabinet in the image139 ? white\\nwhat color is the salt shaker below the electrical outlet in the image139 ? red\\nhow many electrical objects are on the cabinet in the image139 ? 2\\nwhat is on the cabinet in front of the electrical kettle in the image140 ? vegetable_peeler\\nwhat is in front of the oven rack'"
      ]
     },
     "execution_count": 126,
     "metadata": {},
     "output_type": "execute_result"
    }
   ],
   "source": [
    "tokenizer.decode(test)"
   ]
  },
  {
   "cell_type": "code",
   "execution_count": 133,
   "metadata": {},
   "outputs": [
    {
     "name": "stdout",
     "output_type": "stream",
     "text": [
      "torch.Size([2, 1024]) torch.Size([2, 1024])\n",
      "torch.Size([2, 1024]) torch.Size([2, 1024])\n"
     ]
    }
   ],
   "source": [
    "for x , y in train_dataloader:\n",
    "    print(x.shape , y.shape)\n",
    "    "
   ]
  },
  {
   "cell_type": "code",
   "execution_count": 128,
   "metadata": {},
   "outputs": [],
   "source": [
    "for x , y in val_dataloader:\n",
    "    print(x.shape , y.shape)"
   ]
  },
  {
   "cell_type": "code",
   "execution_count": 129,
   "metadata": {},
   "outputs": [
    {
     "data": {
      "text/plain": [
       "[tensor([[ 319,  262, 1353,  ..., 9582, 1666,  287],\n",
       "         [ 262, 1353,  286,  ...,  290, 2330, 2134]]),\n",
       " tensor([[ 262, 1353,  826,  ..., 1666,  287,  262],\n",
       "         [1353,  286,  262,  ..., 2330, 2134,  319]])]"
      ]
     },
     "execution_count": 129,
     "metadata": {},
     "output_type": "execute_result"
    }
   ],
   "source": [
    "next(iter(train_dataloader))"
   ]
  },
  {
   "cell_type": "code",
   "execution_count": 130,
   "metadata": {},
   "outputs": [],
   "source": [
    "def cal_loss_batch(input_batch , target_batch, model , device):\n",
    "    input_batch , target_batch = input_batch.to(device) , target_batch.to(device)\n",
    "    logits = model(input_batch)\n",
    "    loss = torch.nn.functional.cross_entropy(   logits.flatten(0,1), target_batch.flatten())\n",
    "    return loss\n",
    "\n"
   ]
  },
  {
   "cell_type": "code",
   "execution_count": 131,
   "metadata": {},
   "outputs": [],
   "source": [
    "def calc_loss_loader(data_loader , model , device , num_batches = None):\n",
    "    total_loss = 0\n",
    "    if num_batches is None:\n",
    "        num_batches = len(data_loader)\n",
    "    else:\n",
    "        num_batches  = min(num_batches , len(data_loader))\n",
    "    for i , (inputs , target) in enumerate(data_loader):\n",
    "        if i < num_batches:\n",
    "            loss  =  cal_loss_batch(inputs , target , model , device)\n",
    "\n",
    "            total_loss +=loss.item()\n",
    "\n",
    "        else:\n",
    "            break\n",
    "\n",
    "        return total_loss  / num_batches\n",
    "    \n",
    "\n",
    "    "
   ]
  },
  {
   "cell_type": "code",
   "execution_count": 132,
   "metadata": {},
   "outputs": [],
   "source": [
    "# device = torch.device(\"cuda\" if torch.cuda.is_available() else \"cpu\") #A\n",
    "# model.to(device)\n",
    "# train_loss = calc_loss_loader(train_dataloader, model, device) #B\n",
    "# val_loss = calc_loss_loader(val_dataloader, model, device)\n",
    "# print(\"Training loss:\", train_loss)\n",
    "# print(\"Validation loss:\", val_loss)"
   ]
  },
  {
   "cell_type": "code",
   "execution_count": 134,
   "metadata": {},
   "outputs": [],
   "source": [
    "import torch \n",
    "import torch.nn as nn\n",
    "import torch.utils\n",
    "import torch.utils.data\n",
    "from typing import List , Tuple ,Dict\n",
    "from tqdm.auto import tqdm\n",
    "\n",
    "def train_step(model:nn.Module , loss_fn , optimizer:torch.optim.Optimizer ,\n",
    "                data_loader:torch.utils.data.DataLoader ,\n",
    "                  device:torch.device ) -> Tuple[float , float]:\n",
    "    model.train()\n",
    "    train_loss = 0 \n",
    "    for batch , (inputs , target ) in enumerate(data_loader):\n",
    "        inputs , targets  = inputs.to(device) , targets.to(device)\n",
    "        logits =  model(inputs)\n",
    "        loss = loss_fn(logits , targets) \n",
    "        train_loss +=loss.item()\n",
    "        optimizer.zero_grad()\n",
    "        loss.backward()\n",
    "        optimizer.step()\n",
    "\n",
    "    train_loss /= len(data_loader)\n",
    "    return train_loss\n",
    "\n",
    "\n",
    "def test_step(model:nn.Module,loss_fn  , data_loader:torch.utils.data.DataLoader ,\n",
    "               device:torch.device)->Tuple[float , float]:\n",
    "    test_loss = 0\n",
    "    model.eval()\n",
    "    with torch.inference_mode():\n",
    "        for X , y in data_loader:\n",
    "            X  , y = X.to(device) , y.to(device)\n",
    "            predictions = model(X)\n",
    "            loss = loss_fn(predictions , y )\n",
    "            test_loss += loss.item()\n",
    "\n",
    "    test_loss /= len(data_loader)\n",
    "    return test_loss\n",
    "\n",
    "\n",
    "def train_model(model:nn.Module ,train_dataloader:torch.utils.data.DataLoader ,\n",
    "           test_dataloader:torch.utils.data.DataLoader , optimizer:torch.optim.Optimizer ,\n",
    "            loss_fn:nn.Module  , device:torch.device = None , epochs:int = 1  ):\n",
    "    results = {\n",
    "        \"train_loss\":[],\n",
    "        \"test_loss\":[]\n",
    "    }\n",
    "\n",
    "    for epoch in tqdm(range(epochs)):\n",
    "        train_loss = train_step(model= model , \n",
    "                                loss_fn=loss_fn , \n",
    "                                optimizer= optimizer , data_loader=train_dataloader ,device=device)\n",
    "        test_loss = test_step(model=model , loss_fn= loss_fn , data_loader= test_dataloader   ,device= device)\n",
    "        print(\n",
    "            f\"Epoch:{epoch}|\"\n",
    "            f\"train_loss:{train_loss}|\"\n",
    "            f\"test_loss:{test_loss}|\"\n",
    "\n",
    "        )\n",
    "        results['train_loss'].append(train_loss.item() if isinstance(train_loss , torch.Tensor)  else train_loss)\n",
    "        results['test_loss'].append(test_loss.item() if isinstance(test_loss , torch.Tensor)  else test_loss)\n",
    "\n",
    "\n",
    "    return results"
   ]
  },
  {
   "cell_type": "code",
   "execution_count": null,
   "metadata": {},
   "outputs": [],
   "source": [
    "train_model(model= model , train_dataloader= train_dataloader , test_dataloader= val_dataloader ,optimizer=)"
   ]
  }
 ],
 "metadata": {
  "kernelspec": {
   "display_name": "Python 3",
   "language": "python",
   "name": "python3"
  },
  "language_info": {
   "codemirror_mode": {
    "name": "ipython",
    "version": 3
   },
   "file_extension": ".py",
   "mimetype": "text/x-python",
   "name": "python",
   "nbconvert_exporter": "python",
   "pygments_lexer": "ipython3",
   "version": "3.11.8"
  }
 },
 "nbformat": 4,
 "nbformat_minor": 2
}
